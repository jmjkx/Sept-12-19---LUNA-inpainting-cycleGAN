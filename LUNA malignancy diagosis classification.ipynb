{
 "cells": [
  {
   "cell_type": "code",
   "execution_count": null,
   "metadata": {},
   "outputs": [],
   "source": []
  },
  {
   "cell_type": "code",
   "execution_count": 1,
   "metadata": {},
   "outputs": [],
   "source": [
    "import torch\n",
    "from torch.utils.data import Dataset, DataLoader\n",
    "from torch.autograd import Variable\n",
    "from torch import Tensor\n",
    "from torch import optim\n",
    "from torch.utils.data import Sampler, WeightedRandomSampler\n",
    "from torch import nn\n",
    "import torch.nn.functional as F\n",
    "from torch.optim import SGD\n",
    "from torchsummary import summary\n",
    "# import visdom\n",
    "from sklearn.model_selection import train_test_split\n",
    "from tqdm import tqdm_notebook\n",
    "import time\n",
    "from copy import copy\n",
    "from scipy.stats import mode\n",
    "import os\n",
    "import numpy as np\n",
    "import pandas as pd\n",
    "import matplotlib.pyplot as plt\n",
    "%matplotlib inline"
   ]
  },
  {
   "cell_type": "code",
   "execution_count": 2,
   "metadata": {},
   "outputs": [],
   "source": [
    "%load_ext autoreload\n",
    "%autoreload 2"
   ]
  },
  {
   "cell_type": "code",
   "execution_count": 3,
   "metadata": {},
   "outputs": [],
   "source": [
    "from utils_classifier.resnet import *\n",
    "from utils_classifier.darknet import *\n",
    "from utils_classifier.utils_classify_DIPs import *"
   ]
  },
  {
   "cell_type": "code",
   "execution_count": 4,
   "metadata": {},
   "outputs": [],
   "source": [
    "path_source = '/data/OMM/Datasets/LIDC_other_formats/LUNA_inpainted_cubes_for_GAN_v2/'\n",
    "path_lidc = f'{path_source}lidc info/'\n",
    "path_orig = f'{path_source}original/'\n",
    "path_inpain = f'{path_source}inpainted inserted/'"
   ]
  },
  {
   "cell_type": "code",
   "execution_count": 5,
   "metadata": {},
   "outputs": [
    {
     "ename": "AssertionError",
     "evalue": "\nThe NVIDIA driver on your system is too old (found version 9020).\nPlease update your GPU driver by downloading and installing a new\nversion from the URL: http://www.nvidia.com/Download/index.aspx\nAlternatively, go to: https://pytorch.org to install\na PyTorch version that has been compiled with your version\nof the CUDA driver.",
     "output_type": "error",
     "traceback": [
      "\u001b[0;31m---------------------------------------------------------------------------\u001b[0m",
      "\u001b[0;31mAssertionError\u001b[0m                            Traceback (most recent call last)",
      "\u001b[0;32m<ipython-input-5-3831a4580b20>\u001b[0m in \u001b[0;36m<module>\u001b[0;34m\u001b[0m\n\u001b[1;32m      1\u001b[0m \u001b[0mbatchsize\u001b[0m \u001b[0;34m=\u001b[0m \u001b[0;36m8\u001b[0m\u001b[0;34m\u001b[0m\u001b[0;34m\u001b[0m\u001b[0m\n\u001b[0;32m----> 2\u001b[0;31m \u001b[0mtorch\u001b[0m\u001b[0;34m.\u001b[0m\u001b[0mcuda\u001b[0m\u001b[0;34m.\u001b[0m\u001b[0mset_device\u001b[0m\u001b[0;34m(\u001b[0m\u001b[0;36m0\u001b[0m\u001b[0;34m)\u001b[0m\u001b[0;34m\u001b[0m\u001b[0;34m\u001b[0m\u001b[0m\n\u001b[0m\u001b[1;32m      3\u001b[0m \u001b[0;32mif\u001b[0m \u001b[0mtorch\u001b[0m\u001b[0;34m.\u001b[0m\u001b[0mcuda\u001b[0m\u001b[0;34m.\u001b[0m\u001b[0mis_available\u001b[0m\u001b[0;34m(\u001b[0m\u001b[0;34m)\u001b[0m\u001b[0;34m:\u001b[0m\u001b[0;34m\u001b[0m\u001b[0;34m\u001b[0m\u001b[0m\n\u001b[1;32m      4\u001b[0m     \u001b[0mdevice\u001b[0m \u001b[0;34m=\u001b[0m \u001b[0;34m'cuda'\u001b[0m\u001b[0;34m\u001b[0m\u001b[0;34m\u001b[0m\u001b[0m\n",
      "\u001b[0;32m~/anaconda3/envs/pytorch/lib/python3.7/site-packages/torch/cuda/__init__.py\u001b[0m in \u001b[0;36mset_device\u001b[0;34m(device)\u001b[0m\n\u001b[1;32m    279\u001b[0m     \u001b[0mdevice\u001b[0m \u001b[0;34m=\u001b[0m \u001b[0m_get_device_index\u001b[0m\u001b[0;34m(\u001b[0m\u001b[0mdevice\u001b[0m\u001b[0;34m)\u001b[0m\u001b[0;34m\u001b[0m\u001b[0;34m\u001b[0m\u001b[0m\n\u001b[1;32m    280\u001b[0m     \u001b[0;32mif\u001b[0m \u001b[0mdevice\u001b[0m \u001b[0;34m>=\u001b[0m \u001b[0;36m0\u001b[0m\u001b[0;34m:\u001b[0m\u001b[0;34m\u001b[0m\u001b[0;34m\u001b[0m\u001b[0m\n\u001b[0;32m--> 281\u001b[0;31m         \u001b[0mtorch\u001b[0m\u001b[0;34m.\u001b[0m\u001b[0m_C\u001b[0m\u001b[0;34m.\u001b[0m\u001b[0m_cuda_setDevice\u001b[0m\u001b[0;34m(\u001b[0m\u001b[0mdevice\u001b[0m\u001b[0;34m)\u001b[0m\u001b[0;34m\u001b[0m\u001b[0;34m\u001b[0m\u001b[0m\n\u001b[0m\u001b[1;32m    282\u001b[0m \u001b[0;34m\u001b[0m\u001b[0m\n\u001b[1;32m    283\u001b[0m \u001b[0;34m\u001b[0m\u001b[0m\n",
      "\u001b[0;32m~/anaconda3/envs/pytorch/lib/python3.7/site-packages/torch/cuda/__init__.py\u001b[0m in \u001b[0;36m_lazy_init\u001b[0;34m()\u001b[0m\n\u001b[1;32m    176\u001b[0m         raise RuntimeError(\n\u001b[1;32m    177\u001b[0m             \"Cannot re-initialize CUDA in forked subprocess. \" + msg)\n\u001b[0;32m--> 178\u001b[0;31m     \u001b[0m_check_driver\u001b[0m\u001b[0;34m(\u001b[0m\u001b[0;34m)\u001b[0m\u001b[0;34m\u001b[0m\u001b[0;34m\u001b[0m\u001b[0m\n\u001b[0m\u001b[1;32m    179\u001b[0m     \u001b[0mtorch\u001b[0m\u001b[0;34m.\u001b[0m\u001b[0m_C\u001b[0m\u001b[0;34m.\u001b[0m\u001b[0m_cuda_init\u001b[0m\u001b[0;34m(\u001b[0m\u001b[0;34m)\u001b[0m\u001b[0;34m\u001b[0m\u001b[0;34m\u001b[0m\u001b[0m\n\u001b[1;32m    180\u001b[0m     \u001b[0m_cudart\u001b[0m \u001b[0;34m=\u001b[0m \u001b[0m_load_cudart\u001b[0m\u001b[0;34m(\u001b[0m\u001b[0;34m)\u001b[0m\u001b[0;34m\u001b[0m\u001b[0;34m\u001b[0m\u001b[0m\n",
      "\u001b[0;32m~/anaconda3/envs/pytorch/lib/python3.7/site-packages/torch/cuda/__init__.py\u001b[0m in \u001b[0;36m_check_driver\u001b[0;34m()\u001b[0m\n\u001b[1;32m    106\u001b[0m \u001b[0mAlternatively\u001b[0m\u001b[0;34m,\u001b[0m \u001b[0mgo\u001b[0m \u001b[0mto\u001b[0m\u001b[0;34m:\u001b[0m \u001b[0mhttps\u001b[0m\u001b[0;34m:\u001b[0m\u001b[0;34m//\u001b[0m\u001b[0mpytorch\u001b[0m\u001b[0;34m.\u001b[0m\u001b[0morg\u001b[0m \u001b[0mto\u001b[0m \u001b[0minstall\u001b[0m\u001b[0;34m\u001b[0m\u001b[0;34m\u001b[0m\u001b[0m\n\u001b[1;32m    107\u001b[0m \u001b[0ma\u001b[0m \u001b[0mPyTorch\u001b[0m \u001b[0mversion\u001b[0m \u001b[0mthat\u001b[0m \u001b[0mhas\u001b[0m \u001b[0mbeen\u001b[0m \u001b[0mcompiled\u001b[0m \u001b[0;32mwith\u001b[0m \u001b[0myour\u001b[0m \u001b[0mversion\u001b[0m\u001b[0;34m\u001b[0m\u001b[0;34m\u001b[0m\u001b[0m\n\u001b[0;32m--> 108\u001b[0;31m of the CUDA driver.\"\"\".format(str(torch._C._cuda_getDriverVersion())))\n\u001b[0m\u001b[1;32m    109\u001b[0m \u001b[0;34m\u001b[0m\u001b[0m\n\u001b[1;32m    110\u001b[0m \u001b[0;34m\u001b[0m\u001b[0m\n",
      "\u001b[0;31mAssertionError\u001b[0m: \nThe NVIDIA driver on your system is too old (found version 9020).\nPlease update your GPU driver by downloading and installing a new\nversion from the URL: http://www.nvidia.com/Download/index.aspx\nAlternatively, go to: https://pytorch.org to install\na PyTorch version that has been compiled with your version\nof the CUDA driver."
     ]
    }
   ],
   "source": [
    "batchsize = 8\n",
    "torch.cuda.set_device(0)\n",
    "if torch.cuda.is_available():\n",
    "    device = 'cuda'"
   ]
  },
  {
   "cell_type": "code",
   "execution_count": null,
   "metadata": {},
   "outputs": [],
   "source": [
    "# this df is to match the Patient ID with tcia-diagnosis-data-2012-04-20 to get the Diagnosis at the Patient Level\n",
    "df_meta  = pd.read_csv('lidc data/LIDC-IDRI_MetaData.csv')\n",
    "df_tcia  = pd.read_csv('lidc data/tcia-diagnosis-data-2012-04-20.csv')"
   ]
  },
  {
   "cell_type": "code",
   "execution_count": null,
   "metadata": {},
   "outputs": [],
   "source": []
  },
  {
   "cell_type": "code",
   "execution_count": null,
   "metadata": {},
   "outputs": [],
   "source": [
    "ff = os.listdir(path_inpain)\n",
    "ff = [i.split('.raw')[0] for i in ff]\n",
    "ff = np.sort(ff)\n",
    "ff_lidc = os.listdir(path_lidc)\n",
    "ff_lidc = [i.split('.csv')[0] for i in ff_lidc]\n",
    "ff_lidc = np.sort(ff_lidc)\n",
    "ff = list(set(ff).intersection(set(ff_lidc)))\n",
    "len(ff)"
   ]
  },
  {
   "cell_type": "code",
   "execution_count": null,
   "metadata": {},
   "outputs": [],
   "source": [
    "a = pd.read_csv(f'{path_lidc}{ff[2]}.csv')\n",
    "b = a['malignancy'].values\n",
    "b"
   ]
  },
  {
   "cell_type": "code",
   "execution_count": null,
   "metadata": {},
   "outputs": [],
   "source": [
    "def check_for_ties(values):\n",
    "    tie = False\n",
    "    values = np.asarray(values)\n",
    "    mode0 = len(np.where(values==0)[0])\n",
    "    mode1 = len(np.where(values==1)[0])\n",
    "    if mode0 == mode1: \n",
    "        mode_res = -1\n",
    "        tie=True\n",
    "    elif mode0>mode1: \n",
    "        mode_res = 0\n",
    "    else: \n",
    "        mode_res = 1\n",
    "    return mode_res, tie"
   ]
  },
  {
   "cell_type": "code",
   "execution_count": null,
   "metadata": {},
   "outputs": [],
   "source": [
    "def transform_categories_return_mode(a):\n",
    "    orig = []\n",
    "    mode_value = -1\n",
    "    values_transformed = []\n",
    "    for i in a:\n",
    "        orig.append(i)\n",
    "        if i <=2: values_transformed.append(0)\n",
    "        if i >=4: values_transformed.append(1)\n",
    "        else: continue\n",
    "    if len(values_transformed)>=1:\n",
    "        mode_value, _ = check_for_ties(values_transformed)\n",
    "    else:\n",
    "        mode_value = -1\n",
    "    return mode_value"
   ]
  },
  {
   "cell_type": "code",
   "execution_count": null,
   "metadata": {
    "scrolled": true
   },
   "outputs": [],
   "source": [
    "# Get the list of files where malignancy can be defined (no ties)\n",
    "ff_malig = []\n",
    "errors_ff = []\n",
    "malignancies = []\n",
    "for idx, i in enumerate(ff):\n",
    "    try:\n",
    "        df = pd.read_csv(f'{path_lidc}{i}.csv')\n",
    "    except:\n",
    "        # 'EmptyDataError'\n",
    "        errors_ff.append(idx)\n",
    "        continue\n",
    "    vals = df['malignancy'].values\n",
    "    mal = transform_categories_return_mode(vals)\n",
    "    if mal != -1:\n",
    "        ff_malig.append(i)\n",
    "        malignancies.append(mal)\n",
    "df_mal = pd.DataFrame({'ids':ff_malig, 'malignancy':malignancies})\n",
    "print(df_mal.shape)"
   ]
  },
  {
   "cell_type": "code",
   "execution_count": null,
   "metadata": {},
   "outputs": [],
   "source": [
    "# match the Patient ID of df_meta with tcia-diagnosis-data-2012-04-20 to get the \n",
    "# Diagnosis at the Patient Level\n",
    "df_meta  = pd.read_csv('lidc data/LIDC-IDRI_MetaData.csv')\n",
    "df_meta = df_meta[['Patient Id', 'Series UID']]\n",
    "df_tcia  = pd.read_csv('lidc data/tcia-diagnosis-data-2012-04-20.csv')\n",
    "df_tcia = df_tcia[['TCIA Patient ID', 'Diagnosis at the Patient Level']]\n",
    "print(df_meta.shape)\n",
    "print(df_tcia.shape)"
   ]
  },
  {
   "cell_type": "code",
   "execution_count": null,
   "metadata": {},
   "outputs": [],
   "source": [
    "# For each Patient ID in df_meta check if there is info in the df_tcia and merge it\n",
    "df_meta_tcia = pd.merge(df_meta, df_tcia, how='left', left_on='Patient Id', right_on='TCIA Patient ID')\n",
    "print(df_meta_tcia.shape)\n",
    "df_meta_tcia.iloc[195:200]"
   ]
  },
  {
   "cell_type": "code",
   "execution_count": null,
   "metadata": {},
   "outputs": [],
   "source": [
    "# In order to match df_meta_tcia and df_mal we add a column with \n",
    "# the root name of the ids of df_mal () \n",
    "df_mal['ids_name_root'] = df_mal['ids'].apply(lambda x:x.split('_')[0])\n",
    "print(df_mal.shape)\n",
    "df_mal.head()"
   ]
  },
  {
   "cell_type": "code",
   "execution_count": null,
   "metadata": {},
   "outputs": [],
   "source": [
    "# match df_meta_tcia and df_mal\n",
    "df_diag = pd.merge(df_meta_tcia, df_mal, how='left', left_on='Series UID', right_on='ids_name_root')\n",
    "df_diag.drop(['ids_name_root', 'TCIA Patient ID'], axis=1, inplace=True)"
   ]
  },
  {
   "cell_type": "code",
   "execution_count": null,
   "metadata": {},
   "outputs": [],
   "source": [
    "print(len(np.unique(df_diag['Patient Id'].values)))\n",
    "print(pd.notna(df_diag['Diagnosis at the Patient Level']).sum())\n",
    "print(pd.notna(df_diag['malignancy']).sum())\n",
    "df_diag.head()"
   ]
  },
  {
   "cell_type": "code",
   "execution_count": null,
   "metadata": {},
   "outputs": [],
   "source": [
    "# Analyze malignancy first\n",
    "df_malig = df_diag.loc[pd.notna(df_diag['malignancy'])]\n",
    "print(df_malig.shape)\n",
    "df_malig.head()"
   ]
  },
  {
   "cell_type": "code",
   "execution_count": null,
   "metadata": {},
   "outputs": [],
   "source": []
  },
  {
   "cell_type": "code",
   "execution_count": null,
   "metadata": {},
   "outputs": [],
   "source": [
    "X_malig = df_malig['ids'].values\n",
    "y_malig = df_malig['malignancy'].values\n",
    "len(X_malig), len(y_malig)"
   ]
  },
  {
   "cell_type": "code",
   "execution_count": null,
   "metadata": {},
   "outputs": [],
   "source": [
    "fold = 1\n",
    "np.random.seed(fold)\n",
    "X_train, X_val, y_train, y_val = train_test_split(X_malig, y_malig, test_size=0.2, random_state=fold)\n",
    "X_train = np.sort(X_train)\n",
    "X_val = np.sort(X_val)\n",
    "y_train = np.sort(y_train)\n",
    "y_val = np.sort(y_val)\n",
    "len(X_train), len(X_val), len(y_train), len(y_val)"
   ]
  },
  {
   "cell_type": "code",
   "execution_count": null,
   "metadata": {},
   "outputs": [],
   "source": [
    "class LIDCGAN_dataready(Dataset):\n",
    "    def __init__(self, files_train_test, labels, transform = False):\n",
    "        self.A = [f'{path_source}original/{i}.raw' for i in files_train_test]\n",
    "        self.B = [f\"{path_source}inpainted inserted/{i}.raw\" for i in files_train_test]\n",
    "        self.mask = [f\"{path_source}mask/{i}.raw\" for i in files_train_test]\n",
    "        self.labels = labels\n",
    "        self.transform = transform\n",
    "        \n",
    "    def __len__(self):\n",
    "        return len(self.A)\n",
    "    \n",
    "    def normalizePatches(self, npzarray):\n",
    "        maxHU = 400.\n",
    "        minHU = -1000.\n",
    "\n",
    "        npzarray = (npzarray - minHU) / (maxHU - minHU)\n",
    "        npzarray[npzarray>1] = 1.\n",
    "        npzarray[npzarray<0] = 0.\n",
    "        return npzarray\n",
    "    \n",
    "    def rotate_and_flip(self, image1, image2, image3):\n",
    "        rand_int = np.random.randint(1,4)\n",
    "        if np.random.rand() > .3:\n",
    "            image1 = np.rot90(image1,rand_int).copy()\n",
    "            image2 = np.rot90(image2,rand_int).copy()\n",
    "            image3 = np.rot90(image3,rand_int).copy()\n",
    "        if np.random.rand() > .5:\n",
    "            image1 = np.flip(image1,0).copy()\n",
    "            image2 = np.flip(image2,0).copy()\n",
    "            image3 = np.flip(image3,0).copy()\n",
    "        if np.random.rand() > .5:\n",
    "            image1 = np.flip(image1,1).copy()\n",
    "            image2 = np.flip(image2,1).copy()\n",
    "            image3 = np.flip(image3,1).copy()\n",
    "        return image1, image2, image3\n",
    "                              \n",
    "    def __getitem__(self, idx):\n",
    "        imgA = np.fromfile(self.A[idx],dtype='int16').astype('float32').reshape((64,64,64))\n",
    "        imgB = np.fromfile(self.B[idx],dtype='int16').astype('float32').reshape((64,64,64))\n",
    "        mask = np.fromfile(self.mask[idx],dtype='int16').astype('float32').reshape((64,64,64))\n",
    "        label = self.labels[idx]\n",
    "        \n",
    "        # v1: ONLY USE THE INSIDE OF THE CUBE (32x32x32 size)\n",
    "        imgA = imgA[16:-16,16:-16,16:-16]\n",
    "        imgB = imgB[16:-16,16:-16,16:-16]\n",
    "        mask = mask[16:-16,16:-16,16:-16]\n",
    "        \n",
    "        # normalize\n",
    "        imgA = self.normalizePatches(imgA)\n",
    "        imgB = self.normalizePatches(imgB) \n",
    "        \n",
    "        # Flips\n",
    "        if self.transform:\n",
    "            imgA, imgB, mask = self.rotate_and_flip(imgA, imgB, mask)\n",
    "                    \n",
    "        # Add channels dimension\n",
    "        imgA = np.expand_dims(imgA,0)\n",
    "        imgB = np.expand_dims(imgB,0)\n",
    "        mask = np.expand_dims(mask,0)\n",
    "        label = np.expand_dims(label,0)\n",
    "        \n",
    "        # Pytorch\n",
    "        imgA = Tensor(imgA)\n",
    "        imgB = Tensor(imgB)\n",
    "        mask = Tensor(mask)\n",
    "        label = Tensor(label).long()\n",
    "        label = label.squeeze()\n",
    "                  \n",
    "        # Get name to save the data                      \n",
    "#         name = self.A[idx].split('orig/')[-1]\n",
    "        name = self.A[idx]\n",
    "    \n",
    "        return imgA, imgB, mask, name, label"
   ]
  },
  {
   "cell_type": "code",
   "execution_count": null,
   "metadata": {},
   "outputs": [],
   "source": [
    "np.shape(X_train)"
   ]
  },
  {
   "cell_type": "code",
   "execution_count": null,
   "metadata": {},
   "outputs": [],
   "source": [
    "sampler = class_imbalance_sampler(y_train)"
   ]
  },
  {
   "cell_type": "code",
   "execution_count": null,
   "metadata": {},
   "outputs": [],
   "source": [
    "dataset_train = LIDCGAN_dataready(X_train, y_train, transform=False)\n",
    "dataloader_train = DataLoader(dataset_train, batch_size=batchsize, sampler = sampler)\n",
    "dataset_val = LIDCGAN_dataready(X_val, y_val, transform=False)\n",
    "dataloader_val = DataLoader(dataset_val, batch_size=batchsize, shuffle=False)"
   ]
  },
  {
   "cell_type": "code",
   "execution_count": null,
   "metadata": {},
   "outputs": [],
   "source": [
    "slice_middle = 15\n",
    "def plot_next_batch_dataloader(dataloader_iterX):\n",
    "    a, b, mask, name, labels = next(dataloader_iterX)\n",
    "    print(np.shape(a), np.shape(b), np.shape(mask), np.shape(labels))\n",
    "    for i,j,k, lab in zip(a,b,mask,labels):\n",
    "        lab = lab.detach().cpu().numpy()\n",
    "        fig, ax = plt.subplots(1,4,figsize=(10,5))\n",
    "        i = i[0].detach().cpu().numpy()\n",
    "        j = j[0].detach().cpu().numpy()\n",
    "        k = k[0].detach().cpu().numpy()\n",
    "        print(np.shape(i), np.shape(j), np.shape(k))\n",
    "        new_name = name[0].split('/')[-1][:-4]\n",
    "        ax[0].imshow(i[slice_middle], vmin=0, vmax=1)\n",
    "        ax[0].set_title(f'{lab}')\n",
    "        ax[1].imshow(j[slice_middle], vmin=0, vmax=1)\n",
    "        ax[2].imshow(np.abs(i[slice_middle]-j[slice_middle]), vmin=0, vmax=.1)\n",
    "        ax[3].imshow(k[slice_middle])\n",
    "        fig.tight_layout()"
   ]
  },
  {
   "cell_type": "code",
   "execution_count": null,
   "metadata": {
    "scrolled": true
   },
   "outputs": [],
   "source": [
    "dataloader_iter = iter(dataloader_train)\n",
    "plot_next_batch_dataloader(dataloader_iter)"
   ]
  },
  {
   "cell_type": "code",
   "execution_count": null,
   "metadata": {},
   "outputs": [],
   "source": [
    "# model = ResNet18()\n",
    "layers = [2,2,2]\n",
    "layers_str = str(layers)\n",
    "model = Darknet3D([2,2,2],2)\n",
    "model_name = f'darknet{layers_str}'\n",
    "model_name = model_name.replace(', ','_').replace('[','_').strip(']')\n",
    "if torch.cuda.is_available():\n",
    "    model.cuda()\n",
    "model.apply(weights_init);"
   ]
  },
  {
   "cell_type": "code",
   "execution_count": null,
   "metadata": {},
   "outputs": [],
   "source": []
  },
  {
   "cell_type": "code",
   "execution_count": null,
   "metadata": {
    "scrolled": true
   },
   "outputs": [],
   "source": [
    "summary(model,(1,64,64,64))"
   ]
  },
  {
   "cell_type": "code",
   "execution_count": null,
   "metadata": {},
   "outputs": [],
   "source": [
    "lr=1e-3\n",
    "opt = optim.Adam(model.parameters(), lr=lr)\n",
    "criterion = F.cross_entropy"
   ]
  },
  {
   "cell_type": "code",
   "execution_count": null,
   "metadata": {
    "scrolled": true
   },
   "outputs": [],
   "source": [
    "epochs = 2\n",
    "correct_train, correct_val = 0, 0\n",
    "total_train, total_val = 0, 0\n",
    "loss_train_epoch, loss_val_epoch = 0, 0\n",
    "y_train_all, y_val_all = [], []\n",
    "pred_train_proba_all, pred_val_proba_all = [], []\n",
    "best_loss_val = 100\n",
    "train_loss = []\n",
    "val_loss = []\n",
    "train_accuracy = []\n",
    "val_accuracy = []\n",
    "\n",
    "for epoch in tqdm_notebook(range(epochs), total = len(range(epochs)), desc=f'training fold = {fold}'):\n",
    "\n",
    "    \n",
    "    \n",
    "    model.train()\n",
    "    for idx, (Xa_train, Xb_train, mask_train, name_train, y_train) in enumerate(dataloader_train):\n",
    "        \n",
    "        start = time.time()\n",
    "        pred_train_proba, loss, batch_total, batch_correct, _ = loss_batch(model, criterion, Xa_train, y_train, device)\n",
    "        correct_train += batch_correct\n",
    "        total_train += batch_total\n",
    "        loss_train_epoch += loss.detach().cpu().numpy()\n",
    "        y_train_all.extend(y_train.detach().cpu().numpy())\n",
    "        pred_train_proba_all.extend(pred_train_proba)\n",
    "        # Backprop\n",
    "        opt.zero_grad()\n",
    "        loss.backward()\n",
    "        opt.step()\n",
    "    accuracy_train = 100 * correct_train / total_train\n",
    "\n",
    "    model.eval() \n",
    "    with torch.no_grad():\n",
    "        for idx_val, (Xa_val, Xb_val, mask_val, name_val, y_val) in enumerate(dataloader_val):\n",
    "            pred_val_proba, loss_val_batch, batch_total_val, batch_correct_val, _ = loss_batch(model, criterion, Xa_val, y_val, device)\n",
    "\n",
    "            loss_val_epoch += loss_val_batch.detach().cpu().numpy()\n",
    "            total_val += batch_total_val   \n",
    "            correct_val += batch_correct_val\n",
    "            pred_val_proba_all.extend(pred_val_proba)\n",
    "            y_val_all.extend(y_val.detach().cpu().numpy())\n",
    "        accuracy_val = 100 * correct_val/ total_val\n",
    "\n",
    "        # Save best model according to val set\n",
    "        model_saved_name = f'classifier/CNN_models/{model_name}'\n",
    "        if best_loss_val > loss_val_epoch and epoch >= 2:\n",
    "            best_loss_val = loss_val_epoch\n",
    "            best_val_acc = accuracy_val\n",
    "            pred_val_proba_best = pred_val_proba_all\n",
    "            y_val_best = y_val_all    \n",
    "            y_train_best = y_train_all    \n",
    "            pred_train_proba_best = pred_train_proba_all\n",
    "            torch.save({'epoch': epoch + 1, 'state_dict': model.state_dict(),'optim_dict' : opt.state_dict()}, model_saved_name)\n",
    "            \n",
    "    train_loss.append(loss_train_epoch)\n",
    "    val_loss.append(loss_val_epoch)\n",
    "    train_accuracy.append(accuracy_train)\n",
    "    val_accuracy.append(accuracy_val)"
   ]
  },
  {
   "cell_type": "code",
   "execution_count": 30,
   "metadata": {},
   "outputs": [
    {
     "data": {
      "text/plain": [
       "[<matplotlib.lines.Line2D at 0x7f103a1c4f60>]"
      ]
     },
     "execution_count": 30,
     "metadata": {},
     "output_type": "execute_result"
    },
    {
     "data": {
      "image/png": "[encoded data removed]",
      "text/plain": [
       "<Figure size 432x288 with 1 Axes>"
      ]
     },
     "metadata": {},
     "output_type": "display_data"
    }
   ],
   "source": [
    "plt.scatter(np.arange(len(train_loss)), train_loss)\n",
    "plt.plot(train_loss)"
   ]
  },
  {
   "cell_type": "code",
   "execution_count": 31,
   "metadata": {},
   "outputs": [
    {
     "data": {
      "text/plain": [
       "[<matplotlib.lines.Line2D at 0x7f0fe952e748>]"
      ]
     },
     "execution_count": 31,
     "metadata": {},
     "output_type": "execute_result"
    },
    {
     "data": {
      "image/png": "[encoded data removed]",
      "text/plain": [
       "<Figure size 432x288 with 1 Axes>"
      ]
     },
     "metadata": {},
     "output_type": "display_data"
    }
   ],
   "source": [
    "plt.plot(val_loss)"
   ]
  },
  {
   "cell_type": "code",
   "execution_count": 32,
   "metadata": {},
   "outputs": [
    {
     "data": {
      "text/plain": [
       "[<matplotlib.lines.Line2D at 0x7f0fe9492a20>]"
      ]
     },
     "execution_count": 32,
     "metadata": {},
     "output_type": "execute_result"
    },
    {
     "data": {
      "image/png": "[encoded data removed]",
      "text/plain": [
       "<Figure size 432x288 with 1 Axes>"
      ]
     },
     "metadata": {},
     "output_type": "display_data"
    }
   ],
   "source": [
    "plt.plot(train_accuracy)"
   ]
  },
  {
   "cell_type": "code",
   "execution_count": 33,
   "metadata": {},
   "outputs": [
    {
     "data": {
      "text/plain": [
       "tensor([1, 1, 1, 0, 1, 0, 0, 0])"
      ]
     },
     "execution_count": 33,
     "metadata": {},
     "output_type": "execute_result"
    }
   ],
   "source": [
    "y_train"
   ]
  },
  {
   "cell_type": "code",
   "execution_count": 34,
   "metadata": {},
   "outputs": [
    {
     "data": {
      "text/plain": [
       "tensor([1, 1, 1, 1, 1, 1])"
      ]
     },
     "execution_count": 34,
     "metadata": {},
     "output_type": "execute_result"
    }
   ],
   "source": [
    "y_val"
   ]
  },
  {
   "cell_type": "code",
   "execution_count": null,
   "metadata": {
    "collapsed": true
   },
   "outputs": [],
   "source": []
  },
  {
   "cell_type": "code",
   "execution_count": null,
   "metadata": {
    "collapsed": true
   },
   "outputs": [],
   "source": []
  },
  {
   "cell_type": "code",
   "execution_count": null,
   "metadata": {
    "collapsed": true
   },
   "outputs": [],
   "source": [
    "pathxx = '/data/OMM/project results/Feb 20 19 - CycleGan clean/deep nodule prior luna v2 - cubes size 32 coefficients/images augmented/patched_subset/'\n",
    "ffx = os.listdir(path)\n"
   ]
  },
  {
   "cell_type": "code",
   "execution_count": null,
   "metadata": {
    "collapsed": true
   },
   "outputs": [],
   "source": []
  },
  {
   "cell_type": "code",
   "execution_count": null,
   "metadata": {
    "collapsed": true
   },
   "outputs": [],
   "source": []
  },
  {
   "cell_type": "code",
   "execution_count": null,
   "metadata": {
    "collapsed": true
   },
   "outputs": [],
   "source": []
  },
  {
   "cell_type": "code",
   "execution_count": null,
   "metadata": {
    "collapsed": true
   },
   "outputs": [],
   "source": []
  },
  {
   "cell_type": "code",
   "execution_count": null,
   "metadata": {
    "collapsed": true
   },
   "outputs": [],
   "source": []
  },
  {
   "cell_type": "code",
   "execution_count": null,
   "metadata": {
    "collapsed": true
   },
   "outputs": [],
   "source": []
  }
 ],
 "metadata": {
  "kernelspec": {
   "display_name": "Python 3",
   "language": "python",
   "name": "python3"
  },
  "language_info": {
   "codemirror_mode": {
    "name": "ipython",
    "version": 3
   },
   "file_extension": ".py",
   "mimetype": "text/x-python",
   "name": "python",
   "nbconvert_exporter": "python",
   "pygments_lexer": "ipython3",
   "version": "3.7.4"
  },
  "varInspector": {
   "cols": {
    "lenName": 16,
    "lenType": 16,
    "lenVar": 40
   },
   "kernels_config": {
    "python": {
     "delete_cmd_postfix": "",
     "delete_cmd_prefix": "del ",
     "library": "var_list.py",
     "varRefreshCmd": "print(var_dic_list())"
    },
    "r": {
     "delete_cmd_postfix": ") ",
     "delete_cmd_prefix": "rm(",
     "library": "var_list.r",
     "varRefreshCmd": "cat(var_dic_list()) "
    }
   },
   "types_to_exclude": [
    "module",
    "function",
    "builtin_function_or_method",
    "instance",
    "_Feature"
   ],
   "window_display": false
  }
 },
 "nbformat": 4,
 "nbformat_minor": 2
}
