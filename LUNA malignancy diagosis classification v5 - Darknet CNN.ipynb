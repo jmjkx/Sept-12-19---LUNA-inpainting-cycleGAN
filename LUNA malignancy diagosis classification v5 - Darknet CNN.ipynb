{
 "cells": [
  {
   "cell_type": "markdown",
   "metadata": {},
   "source": [
    "## LUNA malignancy diagosis classification\n",
    "Malignancy Classification using 3D or 2D patches   \n",
    "\n",
    "-**v5**   \n",
    "   - Use darknet model (similar to the one used in Neurips workshop)   \n",
    "   \n",
    "-**v4** \n",
    "   - Also including images that DID NOT pass quality control (for correct inpainting)\n",
    "\n",
    "-**v3** \n",
    "   - 3D versions   \n",
    "\n",
    "-**v2** \n",
    "   - Adding random crop augmentation   \n",
    "   - Using only images that passed inpainting QC   \n",
    "   \n",
    "-**v1** 2D version\n"
   ]
  },
  {
   "cell_type": "code",
   "execution_count": 1,
   "metadata": {},
   "outputs": [],
   "source": [
    "import torch\n",
    "from torch.utils.data import Dataset, DataLoader\n",
    "from torch.autograd import Variable\n",
    "from torch import Tensor\n",
    "from torch import optim\n",
    "from torch.utils.data import Sampler, WeightedRandomSampler\n",
    "from torch import nn\n",
    "import torch.nn.functional as F\n",
    "from torch.optim import SGD\n",
    "from torchsummary import summary\n",
    "# import visdom\n",
    "from sklearn.model_selection import train_test_split\n",
    "from tqdm import tqdm_notebook\n",
    "import time\n",
    "from copy import copy\n",
    "from scipy.stats import mode\n",
    "import os\n",
    "import numpy as np\n",
    "from decimal import Decimal\n",
    "import pandas as pd\n",
    "import matplotlib.pyplot as plt\n",
    "from sklearn.metrics import confusion_matrix, accuracy_score\n",
    "import itertools\n",
    "%matplotlib inline"
   ]
  },
  {
   "cell_type": "code",
   "execution_count": 2,
   "metadata": {},
   "outputs": [],
   "source": [
    "import SimpleITK as sitk\n",
    "import math\n",
    "import scipy"
   ]
  },
  {
   "cell_type": "code",
   "execution_count": 3,
   "metadata": {},
   "outputs": [
    {
     "name": "stderr",
     "output_type": "stream",
     "text": [
      "/home/om18/anaconda3/envs/torch/lib/python3.6/site-packages/tqdm/autonotebook.py:17: TqdmExperimentalWarning: Using `tqdm.autonotebook.tqdm` in notebook mode. Use `tqdm.tqdm` instead to force console mode (e.g. in jupyter console)\n",
      "  \" (e.g. in jupyter console)\", TqdmExperimentalWarning)\n"
     ]
    }
   ],
   "source": [
    "from LSUV3D import LSUVinit3D, count_conv_fc_layers # initialization\n",
    "from torch_lr_finder import LRFinder"
   ]
  },
  {
   "cell_type": "code",
   "execution_count": 4,
   "metadata": {},
   "outputs": [],
   "source": [
    "%load_ext autoreload\n",
    "%autoreload 2"
   ]
  },
  {
   "cell_type": "code",
   "execution_count": 5,
   "metadata": {},
   "outputs": [],
   "source": [
    "from utils_classifier.resnet import *\n",
    "from utils_classifier.darknet import *\n",
    "from utils_classifier.utils_classify_DIPs import *"
   ]
  },
  {
   "cell_type": "code",
   "execution_count": 6,
   "metadata": {},
   "outputs": [],
   "source": [
    "path_source = '/data/OMM/Datasets/LIDC_other_formats/LUNA_inpainted_cubes_for_GAN_v2/'\n",
    "path_lidc = f'{path_source}lidc info/'\n",
    "path_orig = f'{path_source}original/'\n",
    "path_inpain = f'{path_source}inpainted inserted/'"
   ]
  },
  {
   "cell_type": "code",
   "execution_count": 7,
   "metadata": {},
   "outputs": [
    {
     "name": "stdout",
     "output_type": "stream",
     "text": [
      "using cuda\n"
     ]
    }
   ],
   "source": [
    "torch.cuda.set_device(1)\n",
    "if torch.cuda.is_available():\n",
    "    device = 'cuda'\n",
    "    print(f'using {device}')"
   ]
  },
  {
   "cell_type": "code",
   "execution_count": 8,
   "metadata": {},
   "outputs": [],
   "source": [
    "# PARAMETERS\n",
    "version = 'v5'\n",
    "apply_weights_init = False\n",
    "apply_LSUV = True\n",
    "LR_finder = False\n",
    "weight_balance = True\n",
    "FINAL_SIZE = 48\n",
    "dropout = .5\n",
    "CHANNELS = 64\n",
    "TRANSFORMS = True\n",
    "BATCHSIZE = 32\n",
    "# layers = [2,2,2,2]\n",
    "layers = [2,2,2]\n",
    "# model = ResNet18_3D_dropout_channels(layers, dpout=dropout, channels=CHANNELS)\n",
    "nf=8\n",
    "model = Darknet3D_dropout(num_blocks = layers, num_classes = 2, dropout = .5, nf=nf)\n",
    "backbone_name = f'Darknet3D_{version}_NF1={nf}'\n",
    "if torch.cuda.is_available():\n",
    "    model.cuda()"
   ]
  },
  {
   "cell_type": "markdown",
   "metadata": {},
   "source": [
    "## Get the right data"
   ]
  },
  {
   "cell_type": "code",
   "execution_count": 9,
   "metadata": {},
   "outputs": [],
   "source": [
    "# this df is to match the Patient ID with tcia-diagnosis-data-2012-04-20 to get the Diagnosis at the Patient Level\n",
    "df_meta  = pd.read_csv('lidc data/LIDC-IDRI_MetaData.csv')\n",
    "df_tcia  = pd.read_csv('lidc data/tcia-diagnosis-data-2012-04-20.csv')"
   ]
  },
  {
   "cell_type": "code",
   "execution_count": 10,
   "metadata": {},
   "outputs": [
    {
     "data": {
      "text/plain": [
       "2292"
      ]
     },
     "execution_count": 10,
     "metadata": {},
     "output_type": "execute_result"
    }
   ],
   "source": [
    "ff = os.listdir(path_inpain)\n",
    "ff = [i.split('.raw')[0] for i in ff]\n",
    "ff = np.sort(ff)\n",
    "ff_lidc = os.listdir(path_lidc)\n",
    "ff_lidc = [i.split('.csv')[0] for i in ff_lidc]\n",
    "ff_lidc = np.sort(ff_lidc)\n",
    "ff = list(set(ff).intersection(set(ff_lidc)))\n",
    "len(ff)"
   ]
  },
  {
   "cell_type": "code",
   "execution_count": 11,
   "metadata": {},
   "outputs": [
    {
     "data": {
      "text/plain": [
       "'/data/OMM/Datasets/LIDC_other_formats/LUNA_inpainted_cubes_for_GAN_v2/lidc info/'"
      ]
     },
     "execution_count": 11,
     "metadata": {},
     "output_type": "execute_result"
    }
   ],
   "source": [
    "path_lidc"
   ]
  },
  {
   "cell_type": "code",
   "execution_count": 12,
   "metadata": {},
   "outputs": [],
   "source": [
    "# a = pd.read_csv(f'{path_lidc}{ff[2]}.csv')\n",
    "# b = a['malignancy'].values\n",
    "# b"
   ]
  },
  {
   "cell_type": "code",
   "execution_count": 13,
   "metadata": {},
   "outputs": [],
   "source": [
    "def check_for_ties(values):\n",
    "    tie = False\n",
    "    values = np.asarray(values)\n",
    "    mode0 = len(np.where(values==0)[0])\n",
    "    mode1 = len(np.where(values==1)[0])\n",
    "    if mode0 == mode1: \n",
    "        mode_res = -1\n",
    "        tie=True\n",
    "    elif mode0>mode1: \n",
    "        mode_res = 0\n",
    "    else: \n",
    "        mode_res = 1\n",
    "    return mode_res, tie"
   ]
  },
  {
   "cell_type": "code",
   "execution_count": 14,
   "metadata": {},
   "outputs": [],
   "source": [
    "def check_for_ties(values, more_two_reviewers=False):\n",
    "    tie = False\n",
    "    values = np.asarray(values)\n",
    "    mode0 = len(np.where(values==0)[0])\n",
    "    mode1 = len(np.where(values==1)[0])\n",
    "    if more_two_reviewers:\n",
    "        if mode0 == mode1: \n",
    "            mode_res = -1\n",
    "            tie=True\n",
    "        elif mode0>mode1 and mode0>=2: \n",
    "            mode_res = 0\n",
    "        elif mode1>mode0 and mode1>=2: \n",
    "            mode_res = 1\n",
    "        else:\n",
    "            mode_res = -1\n",
    "            tie=True\n",
    "    else:\n",
    "        if mode0 == mode1: \n",
    "            mode_res = -1\n",
    "            tie=True\n",
    "        elif mode0>mode1: \n",
    "            mode_res = 0\n",
    "        else: \n",
    "            mode_res = 1\n",
    "    return mode_res, tie"
   ]
  },
  {
   "cell_type": "code",
   "execution_count": 15,
   "metadata": {},
   "outputs": [],
   "source": [
    "def transform_categories_return_mode(a, more_two_reviewers):\n",
    "    orig = []\n",
    "    mode_value = -1\n",
    "    values_transformed = []\n",
    "    for i in a:\n",
    "        orig.append(i)\n",
    "        if i <=2: values_transformed.append(0)\n",
    "        if i >=4: values_transformed.append(1)\n",
    "        else: continue\n",
    "    if len(values_transformed)>=1:\n",
    "        mode_value, _ = check_for_ties(values_transformed, more_two_reviewers=more_two_reviewers)\n",
    "    else:\n",
    "        mode_value = -1\n",
    "    return mode_value"
   ]
  },
  {
   "cell_type": "code",
   "execution_count": 16,
   "metadata": {},
   "outputs": [
    {
     "data": {
      "text/plain": [
       "1"
      ]
     },
     "execution_count": 16,
     "metadata": {},
     "output_type": "execute_result"
    }
   ],
   "source": [
    "a = np.asarray([1,5,5,3,3,3])\n",
    "transform_categories_return_mode(a, True)"
   ]
  },
  {
   "cell_type": "code",
   "execution_count": 17,
   "metadata": {
    "scrolled": true
   },
   "outputs": [
    {
     "name": "stdout",
     "output_type": "stream",
     "text": [
      "df_mal = (841, 2)\n"
     ]
    }
   ],
   "source": [
    "# Get the list of files where malignancy can be defined (no ties)\n",
    "ff_malig = []\n",
    "errors_ff = []\n",
    "malignancies = []\n",
    "for idx, i in enumerate(ff):\n",
    "    try:\n",
    "        df = pd.read_csv(f'{path_lidc}{i}.csv')\n",
    "    except:\n",
    "        # 'EmptyDataError'\n",
    "        errors_ff.append(idx)\n",
    "        continue\n",
    "    vals = df['malignancy'].values\n",
    "    mal = transform_categories_return_mode(vals, more_two_reviewers=True)\n",
    "    if mal != -1:\n",
    "        ff_malig.append(i)\n",
    "        malignancies.append(mal)\n",
    "df_mal = pd.DataFrame({'ids':ff_malig, 'malignancy':malignancies})\n",
    "print(f'df_mal = {df_mal.shape}')"
   ]
  },
  {
   "cell_type": "code",
   "execution_count": 18,
   "metadata": {},
   "outputs": [
    {
     "name": "stdout",
     "output_type": "stream",
     "text": [
      "1.3.6.1.4.1.14519.5.2.1.6279.6001.338114620394879648539943280992_block1_0_z190y222x112\n"
     ]
    },
    {
     "data": {
      "text/html": [
       "<div>\n",
       "<style scoped>\n",
       "    .dataframe tbody tr th:only-of-type {\n",
       "        vertical-align: middle;\n",
       "    }\n",
       "\n",
       "    .dataframe tbody tr th {\n",
       "        vertical-align: top;\n",
       "    }\n",
       "\n",
       "    .dataframe thead th {\n",
       "        text-align: right;\n",
       "    }\n",
       "</style>\n",
       "<table border=\"1\" class=\"dataframe\">\n",
       "  <thead>\n",
       "    <tr style=\"text-align: right;\">\n",
       "      <th></th>\n",
       "      <th>ids</th>\n",
       "      <th>malignancy</th>\n",
       "    </tr>\n",
       "  </thead>\n",
       "  <tbody>\n",
       "    <tr>\n",
       "      <th>836</th>\n",
       "      <td>1.3.6.1.4.1.14519.5.2.1.6279.6001.264251211689...</td>\n",
       "      <td>0</td>\n",
       "    </tr>\n",
       "    <tr>\n",
       "      <th>837</th>\n",
       "      <td>1.3.6.1.4.1.14519.5.2.1.6279.6001.100621383016...</td>\n",
       "      <td>1</td>\n",
       "    </tr>\n",
       "    <tr>\n",
       "      <th>838</th>\n",
       "      <td>1.3.6.1.4.1.14519.5.2.1.6279.6001.230491296081...</td>\n",
       "      <td>1</td>\n",
       "    </tr>\n",
       "    <tr>\n",
       "      <th>839</th>\n",
       "      <td>1.3.6.1.4.1.14519.5.2.1.6279.6001.334517907433...</td>\n",
       "      <td>1</td>\n",
       "    </tr>\n",
       "    <tr>\n",
       "      <th>840</th>\n",
       "      <td>1.3.6.1.4.1.14519.5.2.1.6279.6001.826829446346...</td>\n",
       "      <td>1</td>\n",
       "    </tr>\n",
       "  </tbody>\n",
       "</table>\n",
       "</div>"
      ],
      "text/plain": [
       "                                                   ids  malignancy\n",
       "836  1.3.6.1.4.1.14519.5.2.1.6279.6001.264251211689...           0\n",
       "837  1.3.6.1.4.1.14519.5.2.1.6279.6001.100621383016...           1\n",
       "838  1.3.6.1.4.1.14519.5.2.1.6279.6001.230491296081...           1\n",
       "839  1.3.6.1.4.1.14519.5.2.1.6279.6001.334517907433...           1\n",
       "840  1.3.6.1.4.1.14519.5.2.1.6279.6001.826829446346...           1"
      ]
     },
     "execution_count": 18,
     "metadata": {},
     "output_type": "execute_result"
    }
   ],
   "source": [
    "print(df_mal['ids'].to_numpy()[0])\n",
    "df_mal.tail()"
   ]
  },
  {
   "cell_type": "code",
   "execution_count": 19,
   "metadata": {},
   "outputs": [],
   "source": [
    "# df = pd.read_csv(f'{path_lidc}{ff[0]}.csv')\n",
    "# df"
   ]
  },
  {
   "cell_type": "code",
   "execution_count": 20,
   "metadata": {},
   "outputs": [
    {
     "name": "stdout",
     "output_type": "stream",
     "text": [
      "df_meta = (1398, 2)\n",
      "df_tcia = (157, 2)\n"
     ]
    }
   ],
   "source": [
    "# match the Patient ID of df_meta with tcia-diagnosis-data-2012-04-20 to get the \n",
    "# Diagnosis at the Patient Level\n",
    "df_meta  = pd.read_csv('lidc data/LIDC-IDRI_MetaData.csv')\n",
    "df_meta = df_meta[['Patient Id', 'Series UID']]\n",
    "df_tcia  = pd.read_csv('lidc data/tcia-diagnosis-data-2012-04-20.csv')\n",
    "df_tcia = df_tcia[['TCIA Patient ID', 'Diagnosis at the Patient Level']]\n",
    "print(f'df_meta = {df_meta.shape}')\n",
    "print(f'df_tcia = {df_tcia.shape}')"
   ]
  },
  {
   "cell_type": "code",
   "execution_count": 21,
   "metadata": {},
   "outputs": [
    {
     "name": "stdout",
     "output_type": "stream",
     "text": [
      "df_meta_tcia = (1398, 4)\n",
      "1.3.6.1.4.1.14519.5.2.1.6279.6001.179049373636438705059720603192\n"
     ]
    },
    {
     "data": {
      "text/html": [
       "<div>\n",
       "<style scoped>\n",
       "    .dataframe tbody tr th:only-of-type {\n",
       "        vertical-align: middle;\n",
       "    }\n",
       "\n",
       "    .dataframe tbody tr th {\n",
       "        vertical-align: top;\n",
       "    }\n",
       "\n",
       "    .dataframe thead th {\n",
       "        text-align: right;\n",
       "    }\n",
       "</style>\n",
       "<table border=\"1\" class=\"dataframe\">\n",
       "  <thead>\n",
       "    <tr style=\"text-align: right;\">\n",
       "      <th></th>\n",
       "      <th>Patient Id</th>\n",
       "      <th>Series UID</th>\n",
       "      <th>TCIA Patient ID</th>\n",
       "      <th>Diagnosis at the Patient Level</th>\n",
       "    </tr>\n",
       "  </thead>\n",
       "  <tbody>\n",
       "    <tr>\n",
       "      <th>195</th>\n",
       "      <td>LIDC-IDRI-0221</td>\n",
       "      <td>1.3.6.1.4.1.14519.5.2.1.6279.6001.272344603176...</td>\n",
       "      <td>LIDC-IDRI-0221</td>\n",
       "      <td>0.0</td>\n",
       "    </tr>\n",
       "    <tr>\n",
       "      <th>196</th>\n",
       "      <td>LIDC-IDRI-0222</td>\n",
       "      <td>1.3.6.1.4.1.14519.5.2.1.6279.6001.233652865358...</td>\n",
       "      <td>LIDC-IDRI-0222</td>\n",
       "      <td>0.0</td>\n",
       "    </tr>\n",
       "    <tr>\n",
       "      <th>197</th>\n",
       "      <td>LIDC-IDRI-0222</td>\n",
       "      <td>1.3.6.1.4.1.14519.5.2.1.6279.6001.199916291608...</td>\n",
       "      <td>LIDC-IDRI-0222</td>\n",
       "      <td>0.0</td>\n",
       "    </tr>\n",
       "    <tr>\n",
       "      <th>198</th>\n",
       "      <td>LIDC-IDRI-0223</td>\n",
       "      <td>1.3.6.1.4.1.14519.5.2.1.6279.6001.180670358170...</td>\n",
       "      <td>LIDC-IDRI-0223</td>\n",
       "      <td>3.0</td>\n",
       "    </tr>\n",
       "    <tr>\n",
       "      <th>199</th>\n",
       "      <td>LIDC-IDRI-0223</td>\n",
       "      <td>1.3.6.1.4.1.14519.5.2.1.6279.6001.249314567767...</td>\n",
       "      <td>LIDC-IDRI-0223</td>\n",
       "      <td>3.0</td>\n",
       "    </tr>\n",
       "  </tbody>\n",
       "</table>\n",
       "</div>"
      ],
      "text/plain": [
       "         Patient Id                                         Series UID  \\\n",
       "195  LIDC-IDRI-0221  1.3.6.1.4.1.14519.5.2.1.6279.6001.272344603176...   \n",
       "196  LIDC-IDRI-0222  1.3.6.1.4.1.14519.5.2.1.6279.6001.233652865358...   \n",
       "197  LIDC-IDRI-0222  1.3.6.1.4.1.14519.5.2.1.6279.6001.199916291608...   \n",
       "198  LIDC-IDRI-0223  1.3.6.1.4.1.14519.5.2.1.6279.6001.180670358170...   \n",
       "199  LIDC-IDRI-0223  1.3.6.1.4.1.14519.5.2.1.6279.6001.249314567767...   \n",
       "\n",
       "    TCIA Patient ID  Diagnosis at the Patient Level  \n",
       "195  LIDC-IDRI-0221                             0.0  \n",
       "196  LIDC-IDRI-0222                             0.0  \n",
       "197  LIDC-IDRI-0222                             0.0  \n",
       "198  LIDC-IDRI-0223                             3.0  \n",
       "199  LIDC-IDRI-0223                             3.0  "
      ]
     },
     "execution_count": 21,
     "metadata": {},
     "output_type": "execute_result"
    }
   ],
   "source": [
    "# For each Patient ID in df_meta check if there is info in the df_tcia and merge it\n",
    "df_meta_tcia = pd.merge(df_meta, df_tcia, how='left', left_on='Patient Id', right_on='TCIA Patient ID')\n",
    "print(f'df_meta_tcia = {df_meta_tcia.shape}')\n",
    "print(df_meta_tcia['Series UID'].to_numpy()[0])\n",
    "df_meta_tcia.iloc[195:200]"
   ]
  },
  {
   "cell_type": "code",
   "execution_count": 22,
   "metadata": {},
   "outputs": [
    {
     "name": "stdout",
     "output_type": "stream",
     "text": [
      "df_mal = (841, 3)\n"
     ]
    }
   ],
   "source": [
    "# In order to match df_meta_tcia and df_mal we add a column with \n",
    "# the root name of the ids of df_mal () \n",
    "df_mal['ids_name_root'] = df_mal['ids'].apply(lambda x:x.split('_')[0])\n",
    "print(f'df_mal = {df_mal.shape}')"
   ]
  },
  {
   "cell_type": "code",
   "execution_count": 23,
   "metadata": {},
   "outputs": [],
   "source": [
    "# match df_meta_tcia and df_mal\n",
    "df_diag = pd.merge(df_meta_tcia, df_mal, how='left', left_on='Series UID', right_on='ids_name_root')\n",
    "df_diag.drop(['ids_name_root', 'TCIA Patient ID'], axis=1, inplace=True)"
   ]
  },
  {
   "cell_type": "code",
   "execution_count": 24,
   "metadata": {},
   "outputs": [
    {
     "name": "stdout",
     "output_type": "stream",
     "text": [
      "1010\n",
      "430\n",
      "841\n"
     ]
    },
    {
     "data": {
      "text/html": [
       "<div>\n",
       "<style scoped>\n",
       "    .dataframe tbody tr th:only-of-type {\n",
       "        vertical-align: middle;\n",
       "    }\n",
       "\n",
       "    .dataframe tbody tr th {\n",
       "        vertical-align: top;\n",
       "    }\n",
       "\n",
       "    .dataframe thead th {\n",
       "        text-align: right;\n",
       "    }\n",
       "</style>\n",
       "<table border=\"1\" class=\"dataframe\">\n",
       "  <thead>\n",
       "    <tr style=\"text-align: right;\">\n",
       "      <th></th>\n",
       "      <th>Patient Id</th>\n",
       "      <th>Series UID</th>\n",
       "      <th>Diagnosis at the Patient Level</th>\n",
       "      <th>ids</th>\n",
       "      <th>malignancy</th>\n",
       "    </tr>\n",
       "  </thead>\n",
       "  <tbody>\n",
       "    <tr>\n",
       "      <th>0</th>\n",
       "      <td>LIDC-IDRI-0001</td>\n",
       "      <td>1.3.6.1.4.1.14519.5.2.1.6279.6001.179049373636...</td>\n",
       "      <td>NaN</td>\n",
       "      <td>1.3.6.1.4.1.14519.5.2.1.6279.6001.179049373636...</td>\n",
       "      <td>1.0</td>\n",
       "    </tr>\n",
       "    <tr>\n",
       "      <th>1</th>\n",
       "      <td>LIDC-IDRI-0001</td>\n",
       "      <td>1.3.6.1.4.1.14519.5.2.1.6279.6001.141365756818...</td>\n",
       "      <td>NaN</td>\n",
       "      <td>NaN</td>\n",
       "      <td>NaN</td>\n",
       "    </tr>\n",
       "    <tr>\n",
       "      <th>2</th>\n",
       "      <td>LIDC-IDRI-0002</td>\n",
       "      <td>1.3.6.1.4.1.14519.5.2.1.6279.6001.619372068417...</td>\n",
       "      <td>NaN</td>\n",
       "      <td>1.3.6.1.4.1.14519.5.2.1.6279.6001.619372068417...</td>\n",
       "      <td>1.0</td>\n",
       "    </tr>\n",
       "    <tr>\n",
       "      <th>3</th>\n",
       "      <td>LIDC-IDRI-0002</td>\n",
       "      <td>1.3.6.1.4.1.14519.5.2.1.6279.6001.493562949900...</td>\n",
       "      <td>NaN</td>\n",
       "      <td>NaN</td>\n",
       "      <td>NaN</td>\n",
       "    </tr>\n",
       "    <tr>\n",
       "      <th>4</th>\n",
       "      <td>LIDC-IDRI-0003</td>\n",
       "      <td>1.3.6.1.4.1.14519.5.2.1.6279.6001.170706757615...</td>\n",
       "      <td>NaN</td>\n",
       "      <td>1.3.6.1.4.1.14519.5.2.1.6279.6001.170706757615...</td>\n",
       "      <td>1.0</td>\n",
       "    </tr>\n",
       "  </tbody>\n",
       "</table>\n",
       "</div>"
      ],
      "text/plain": [
       "       Patient Id                                         Series UID  \\\n",
       "0  LIDC-IDRI-0001  1.3.6.1.4.1.14519.5.2.1.6279.6001.179049373636...   \n",
       "1  LIDC-IDRI-0001  1.3.6.1.4.1.14519.5.2.1.6279.6001.141365756818...   \n",
       "2  LIDC-IDRI-0002  1.3.6.1.4.1.14519.5.2.1.6279.6001.619372068417...   \n",
       "3  LIDC-IDRI-0002  1.3.6.1.4.1.14519.5.2.1.6279.6001.493562949900...   \n",
       "4  LIDC-IDRI-0003  1.3.6.1.4.1.14519.5.2.1.6279.6001.170706757615...   \n",
       "\n",
       "   Diagnosis at the Patient Level  \\\n",
       "0                             NaN   \n",
       "1                             NaN   \n",
       "2                             NaN   \n",
       "3                             NaN   \n",
       "4                             NaN   \n",
       "\n",
       "                                                 ids  malignancy  \n",
       "0  1.3.6.1.4.1.14519.5.2.1.6279.6001.179049373636...         1.0  \n",
       "1                                                NaN         NaN  \n",
       "2  1.3.6.1.4.1.14519.5.2.1.6279.6001.619372068417...         1.0  \n",
       "3                                                NaN         NaN  \n",
       "4  1.3.6.1.4.1.14519.5.2.1.6279.6001.170706757615...         1.0  "
      ]
     },
     "execution_count": 24,
     "metadata": {},
     "output_type": "execute_result"
    }
   ],
   "source": [
    "print(len(np.unique(df_diag['Patient Id'].values)))\n",
    "print(pd.notna(df_diag['Diagnosis at the Patient Level']).sum())\n",
    "print(pd.notna(df_diag['malignancy']).sum())\n",
    "df_diag.head()"
   ]
  },
  {
   "cell_type": "code",
   "execution_count": 25,
   "metadata": {},
   "outputs": [
    {
     "name": "stdout",
     "output_type": "stream",
     "text": [
      "(841, 5)\n"
     ]
    },
    {
     "data": {
      "text/html": [
       "<div>\n",
       "<style scoped>\n",
       "    .dataframe tbody tr th:only-of-type {\n",
       "        vertical-align: middle;\n",
       "    }\n",
       "\n",
       "    .dataframe tbody tr th {\n",
       "        vertical-align: top;\n",
       "    }\n",
       "\n",
       "    .dataframe thead th {\n",
       "        text-align: right;\n",
       "    }\n",
       "</style>\n",
       "<table border=\"1\" class=\"dataframe\">\n",
       "  <thead>\n",
       "    <tr style=\"text-align: right;\">\n",
       "      <th></th>\n",
       "      <th>Patient Id</th>\n",
       "      <th>Series UID</th>\n",
       "      <th>Diagnosis at the Patient Level</th>\n",
       "      <th>ids</th>\n",
       "      <th>malignancy</th>\n",
       "    </tr>\n",
       "  </thead>\n",
       "  <tbody>\n",
       "    <tr>\n",
       "      <th>0</th>\n",
       "      <td>LIDC-IDRI-0001</td>\n",
       "      <td>1.3.6.1.4.1.14519.5.2.1.6279.6001.179049373636...</td>\n",
       "      <td>NaN</td>\n",
       "      <td>1.3.6.1.4.1.14519.5.2.1.6279.6001.179049373636...</td>\n",
       "      <td>1.0</td>\n",
       "    </tr>\n",
       "    <tr>\n",
       "      <th>2</th>\n",
       "      <td>LIDC-IDRI-0002</td>\n",
       "      <td>1.3.6.1.4.1.14519.5.2.1.6279.6001.619372068417...</td>\n",
       "      <td>NaN</td>\n",
       "      <td>1.3.6.1.4.1.14519.5.2.1.6279.6001.619372068417...</td>\n",
       "      <td>1.0</td>\n",
       "    </tr>\n",
       "    <tr>\n",
       "      <th>4</th>\n",
       "      <td>LIDC-IDRI-0003</td>\n",
       "      <td>1.3.6.1.4.1.14519.5.2.1.6279.6001.170706757615...</td>\n",
       "      <td>NaN</td>\n",
       "      <td>1.3.6.1.4.1.14519.5.2.1.6279.6001.170706757615...</td>\n",
       "      <td>1.0</td>\n",
       "    </tr>\n",
       "    <tr>\n",
       "      <th>5</th>\n",
       "      <td>LIDC-IDRI-0003</td>\n",
       "      <td>1.3.6.1.4.1.14519.5.2.1.6279.6001.170706757615...</td>\n",
       "      <td>NaN</td>\n",
       "      <td>1.3.6.1.4.1.14519.5.2.1.6279.6001.170706757615...</td>\n",
       "      <td>1.0</td>\n",
       "    </tr>\n",
       "    <tr>\n",
       "      <th>6</th>\n",
       "      <td>LIDC-IDRI-0003</td>\n",
       "      <td>1.3.6.1.4.1.14519.5.2.1.6279.6001.170706757615...</td>\n",
       "      <td>NaN</td>\n",
       "      <td>1.3.6.1.4.1.14519.5.2.1.6279.6001.170706757615...</td>\n",
       "      <td>1.0</td>\n",
       "    </tr>\n",
       "  </tbody>\n",
       "</table>\n",
       "</div>"
      ],
      "text/plain": [
       "       Patient Id                                         Series UID  \\\n",
       "0  LIDC-IDRI-0001  1.3.6.1.4.1.14519.5.2.1.6279.6001.179049373636...   \n",
       "2  LIDC-IDRI-0002  1.3.6.1.4.1.14519.5.2.1.6279.6001.619372068417...   \n",
       "4  LIDC-IDRI-0003  1.3.6.1.4.1.14519.5.2.1.6279.6001.170706757615...   \n",
       "5  LIDC-IDRI-0003  1.3.6.1.4.1.14519.5.2.1.6279.6001.170706757615...   \n",
       "6  LIDC-IDRI-0003  1.3.6.1.4.1.14519.5.2.1.6279.6001.170706757615...   \n",
       "\n",
       "   Diagnosis at the Patient Level  \\\n",
       "0                             NaN   \n",
       "2                             NaN   \n",
       "4                             NaN   \n",
       "5                             NaN   \n",
       "6                             NaN   \n",
       "\n",
       "                                                 ids  malignancy  \n",
       "0  1.3.6.1.4.1.14519.5.2.1.6279.6001.179049373636...         1.0  \n",
       "2  1.3.6.1.4.1.14519.5.2.1.6279.6001.619372068417...         1.0  \n",
       "4  1.3.6.1.4.1.14519.5.2.1.6279.6001.170706757615...         1.0  \n",
       "5  1.3.6.1.4.1.14519.5.2.1.6279.6001.170706757615...         1.0  \n",
       "6  1.3.6.1.4.1.14519.5.2.1.6279.6001.170706757615...         1.0  "
      ]
     },
     "execution_count": 25,
     "metadata": {},
     "output_type": "execute_result"
    }
   ],
   "source": [
    "# Analyze malignancy first\n",
    "df_malig = df_diag.loc[pd.notna(df_diag['malignancy'])]\n",
    "print(df_malig.shape)\n",
    "df_malig.head()"
   ]
  },
  {
   "cell_type": "code",
   "execution_count": 26,
   "metadata": {},
   "outputs": [
    {
     "name": "stdout",
     "output_type": "stream",
     "text": [
      "qc_passed = 1470\n"
     ]
    },
    {
     "data": {
      "text/plain": [
       "(653, 5)"
      ]
     },
     "execution_count": 26,
     "metadata": {},
     "output_type": "execute_result"
    }
   ],
   "source": [
    "# QC passed\n",
    "QC_level = 'qualitative assessment 2 (passed stricter OM)/'\n",
    "QC_name = 'QC'+QC_level.split(' ')[2]\n",
    "qc_passed = os.listdir(f'{path_source}versions2D/{QC_level}')\n",
    "qc_passed = [i.split('.jpg')[0] for i in qc_passed]\n",
    "print(f'qc_passed = {len(qc_passed)}')\n",
    "df_malig_qc = df_malig[df_malig['ids'].isin(qc_passed).values]\n",
    "df_malig_qc.shape"
   ]
  },
  {
   "cell_type": "code",
   "execution_count": 27,
   "metadata": {},
   "outputs": [
    {
     "name": "stdout",
     "output_type": "stream",
     "text": [
      "qc_passed = 1470\n"
     ]
    },
    {
     "data": {
      "text/plain": [
       "(653, 5)"
      ]
     },
     "execution_count": 27,
     "metadata": {},
     "output_type": "execute_result"
    }
   ],
   "source": [
    "# QC passed\n",
    "QC_level = 'qualitative assessment 2 (passed stricter OM)/'\n",
    "QC_name = 'QC'+QC_level.split(' ')[2]\n",
    "qc_passed = os.listdir(f'{path_source}versions2D/{QC_level}')\n",
    "qc_passed = [i.split('.jpg')[0] for i in qc_passed]\n",
    "print(f'qc_passed = {len(qc_passed)}')\n",
    "df_malig_qc = df_malig[df_malig['ids'].isin(qc_passed).values]\n",
    "df_malig_qc.shape"
   ]
  },
  {
   "cell_type": "code",
   "execution_count": 28,
   "metadata": {},
   "outputs": [
    {
     "name": "stdout",
     "output_type": "stream",
     "text": [
      "653 653\n"
     ]
    },
    {
     "data": {
      "text/plain": [
       "'1.3.6.1.4.1.14519.5.2.1.6279.6001.179049373636438705059720603192_block2_0_z224y258x222'"
      ]
     },
     "execution_count": 28,
     "metadata": {},
     "output_type": "execute_result"
    }
   ],
   "source": [
    "X_malig = df_malig_qc['ids'].values\n",
    "y_malig = df_malig_qc['malignancy'].values\n",
    "print(len(X_malig), len(y_malig))\n",
    "X_malig[0]"
   ]
  },
  {
   "cell_type": "code",
   "execution_count": 29,
   "metadata": {},
   "outputs": [
    {
     "name": "stdout",
     "output_type": "stream",
     "text": [
      "841 841\n"
     ]
    },
    {
     "data": {
      "text/plain": [
       "'1.3.6.1.4.1.14519.5.2.1.6279.6001.179049373636438705059720603192_block2_0_z224y258x222'"
      ]
     },
     "execution_count": 29,
     "metadata": {},
     "output_type": "execute_result"
    }
   ],
   "source": [
    "# NO QC !!!!!!!!!!!!!!!!!!!!!!!!!!!!!!\n",
    "QC_name = 'QCnone'\n",
    "X_malig = df_malig['ids'].values\n",
    "y_malig = df_malig['malignancy'].values\n",
    "print(len(X_malig), len(y_malig))\n",
    "X_malig[0]"
   ]
  },
  {
   "cell_type": "code",
   "execution_count": null,
   "metadata": {},
   "outputs": [],
   "source": []
  },
  {
   "cell_type": "code",
   "execution_count": 30,
   "metadata": {},
   "outputs": [
    {
     "data": {
      "text/plain": [
       "(756, 85, 756, 85)"
      ]
     },
     "execution_count": 30,
     "metadata": {},
     "output_type": "execute_result"
    }
   ],
   "source": [
    "fold = 1\n",
    "np.random.seed(fold)\n",
    "X_files_train, X_files_val, y_files_train, y_files_val = train_test_split(X_malig, y_malig, test_size=0.1, random_state=fold)\n",
    "# X_files_train = np.sort(X_files_train)\n",
    "# X_files_val = np.sort(X_files_val)\n",
    "# y_files_train = np.sort(y_files_train)\n",
    "# y_files_val = np.sort(y_files_val)\n",
    "len(X_files_train), len(X_files_val), len(y_files_train), len(y_files_val)"
   ]
  },
  {
   "cell_type": "code",
   "execution_count": 31,
   "metadata": {},
   "outputs": [
    {
     "data": {
      "image/png": "[encoded data removed]",
      "text/plain": [
       "<Figure size 432x288 with 2 Axes>"
      ]
     },
     "metadata": {
      "needs_background": "light"
     },
     "output_type": "display_data"
    }
   ],
   "source": [
    "fig, ax = plt.subplots(1,2)\n",
    "ax[0].hist(y_files_train);\n",
    "ax[1].hist(y_files_val);"
   ]
  },
  {
   "cell_type": "code",
   "execution_count": 32,
   "metadata": {},
   "outputs": [],
   "source": [
    "class LIDCGAN_3D(Dataset):\n",
    "    def __init__(self, files_train_test, labels, transform = False):\n",
    "        self.A = [f'{path_source}original/{i}.raw' for i in files_train_test]\n",
    "        self.B = [f\"{path_source}inpainted inserted/{i}.raw\" for i in files_train_test]\n",
    "        self.mask = [f\"{path_source}mask/{i}.raw\" for i in files_train_test]\n",
    "        self.labels = labels\n",
    "        self.transform = transform\n",
    "        \n",
    "    def __len__(self):\n",
    "        return len(self.A)\n",
    "    \n",
    "    def normalizePatches(self, npzarray):\n",
    "        maxHU = 400.\n",
    "        minHU = -1000.\n",
    "\n",
    "        npzarray = (npzarray - minHU) / (maxHU - minHU)\n",
    "        npzarray[npzarray>1] = 1.\n",
    "        npzarray[npzarray<0] = 0.\n",
    "        return npzarray\n",
    "    \n",
    "    def rotate_and_flip(self, image1, image2, image3):\n",
    "        rand_int = np.random.randint(1,4)\n",
    "        if np.random.rand() > .3:\n",
    "            image1 = np.rot90(image1,rand_int).copy()\n",
    "            image2 = np.rot90(image2,rand_int).copy()\n",
    "            image3 = np.rot90(image3,rand_int).copy()\n",
    "        if np.random.rand() > .5:\n",
    "            image1 = np.flip(image1,0).copy()\n",
    "            image2 = np.flip(image2,0).copy()\n",
    "            image3 = np.flip(image3,0).copy()\n",
    "        if np.random.rand() > .5:\n",
    "            image1 = np.flip(image1,1).copy()\n",
    "            image2 = np.flip(image2,1).copy()\n",
    "            image3 = np.flip(image3,1).copy()\n",
    "        return image1, image2, image3\n",
    "    \n",
    "    def rotate_3D(self, img):\n",
    "        #Rotations\n",
    "        rot_rand = np.random.randint(0,4)\n",
    "        img = np.rot90(img, rot_rand, (0,1)).copy()\n",
    "        rot_rand2 = np.random.randint(0,4)\n",
    "        img = np.rot90(img, rot_rand2, (0,2)).copy()\n",
    "        rot_rand3 = np.random.randint(0,4)\n",
    "        img = np.rot90(img, rot_rand3, (1,2)).copy()\n",
    "        #Flips\n",
    "        if np.random.rand() > .5:\n",
    "            img = np.flip(img, 1).copy()\n",
    "        if np.random.rand() > .5:\n",
    "            img = np.flip(img, 2).copy()\n",
    "        if np.random.rand() > .5:\n",
    "            img = np.flip(img, (1,2)).copy()\n",
    "        return img\n",
    "    \n",
    "    def eulerAnglesToRotationMatrix(self, theta):\n",
    "        thetaRad = np.zeros_like(theta)\n",
    "        for ii in range(len(theta)):\n",
    "            thetaRad[ii] = (theta[ii] / 180.) * np.pi     \n",
    "        R_x = np.array([[1,         0,                  0                   ],\n",
    "                        [0,         math.cos(theta[0]), -math.sin(theta[0]) ],\n",
    "                        [0,         math.sin(theta[0]), math.cos(theta[0])  ]\n",
    "                        ])\n",
    "        R_y = np.array([[math.cos(theta[1]),    0,      math.sin(theta[1])  ],\n",
    "                        [0,                     1,      0                   ],\n",
    "                        [-math.sin(theta[1]),   0,      math.cos(theta[1])  ]\n",
    "                        ])                 \n",
    "        R_z = np.array([[math.cos(theta[2]),    -math.sin(theta[2]),    0],\n",
    "                        [math.sin(theta[2]),    math.cos(theta[2]),     0],\n",
    "                        [0,                     0,                      1]\n",
    "                        ])                     \n",
    "        R = np.dot(R_z, np.dot( R_y, R_x )) \n",
    "        return R\n",
    "    \n",
    "    def random_rotation_scaling(self, vol):\n",
    "        # random rotation and scaling\n",
    "        scaleFact = 0.5*np.random.rand() + 0.75\n",
    "        rotFactX = 60.*np.random.rand() - 30\n",
    "        rotFactY = 60.*np.random.rand() - 30\n",
    "        rotFactZ = 60.*np.random.rand() - 30\n",
    "\n",
    "        image_center = tuple(np.array(vol.shape) / 2 - 0.5)\n",
    "\n",
    "        rotMat = self.eulerAnglesToRotationMatrix((rotFactX,rotFactY,rotFactZ))\n",
    "\n",
    "        scaleMat = np.eye(3,3)\n",
    "        scaleMat[0,0] *= scaleFact\n",
    "        scaleMat[1,1] *= scaleFact\n",
    "        scaleMat[2,2] *= scaleFact\n",
    "\n",
    "        affMat = np.dot(rotMat,scaleMat)\n",
    "\n",
    "        affine = sitk.AffineTransform(3)\n",
    "        affine.SetMatrix(affMat.ravel())\n",
    "        affine.SetCenter(image_center)\n",
    "\n",
    "        img = sitk.GetImageFromArray(vol)\n",
    "        refImg = img\n",
    "        imgNew = sitk.Resample(img, refImg, affine,sitk.sitkLinear,0)\n",
    "\n",
    "        vol = sitk.GetArrayFromImage(imgNew).copy()\n",
    "        return vol\n",
    "                              \n",
    "        \n",
    "    def random_crop(self, image):\n",
    "        FINAL_SIZE=32\n",
    "        remove = np.shape(image)[0] - FINAL_SIZE\n",
    "        crop_Z = np.random.randint(8,24)\n",
    "        crop_Y = np.random.randint(8,24)\n",
    "        crop_X = np.random.randint(8,24)\n",
    "        crop_Z_other_side = int(remove - crop_Z)\n",
    "        crop_Y_other_side = int(remove - crop_Y)\n",
    "        crop_X_other_side = int(remove - crop_X)\n",
    "        crop_Y_random = np.random.rand() > .5\n",
    "        crop_Z_random = np.random.rand() > .5\n",
    "        crop_X_random = np.random.rand() > .5\n",
    "        if crop_Y_random:\n",
    "            image = image[:,crop_Y:-crop_Y_other_side,:]\n",
    "        else:\n",
    "            image = image[:,crop_Y_other_side:-crop_Y,:]\n",
    "        if crop_Z_random:\n",
    "            image = image[crop_Z:-crop_Z_other_side,:,:]\n",
    "        else:\n",
    "            image = image[crop_Z_other_side:-crop_Z,:,:]\n",
    "        if crop_X_random:\n",
    "            image = image[:,:,crop_X:-crop_X_other_side]\n",
    "        else:\n",
    "            image = image[:,:,crop_X_other_side:-crop_X]\n",
    "        return image\n",
    "    \n",
    "    def __getitem__(self, idx):\n",
    "        imgA = np.fromfile(self.A[idx],dtype='int16').astype('float32').reshape((64,64,64))\n",
    "        imgB = np.fromfile(self.B[idx],dtype='int16').astype('float32').reshape((64,64,64))\n",
    "        mask = np.fromfile(self.mask[idx],dtype='int16').astype('float32').reshape((64,64,64))\n",
    "        label = self.labels[idx]\n",
    "        \n",
    "        \n",
    "        # Rotations\n",
    "        if self.transform: # == 'WARNING DO NOT DO ROTATIONS':\n",
    "            imgA = self.random_rotation_scaling(imgA)\n",
    "            mask = self.random_rotation_scaling(mask)\n",
    "        \n",
    "        if self.transform == 'WARNING DO NOT DO SHIFTS':\n",
    "            imgA = self.random_crop(imgA)\n",
    "            mask = self.random_crop(mask)\n",
    "        else:\n",
    "            imgA = imgA[16:-16, 16:-16, 16:-16]\n",
    "            imgB = imgB[16:-16, 16:-16, 16:-16]\n",
    "            mask = mask[16:-16, 16:-16, 16:-16]\n",
    "\n",
    "#         imgB = self.random_crop(imgB)\n",
    "#         mask = self.random_crop(mask)\n",
    "        \n",
    "        # normalize\n",
    "        imgA = self.normalizePatches(imgA)\n",
    "        imgB = self.normalizePatches(imgB) \n",
    "        \n",
    "#         # Flips\n",
    "#         if self.transform: # == 'WARNING DO NOT DO ROTATIONS':\n",
    "#             imgA = self.rotate_3D(imgA)\n",
    "#             mask = self.rotate_3D(mask)\n",
    "                    \n",
    "        # Add channels dimension\n",
    "        imgA = np.expand_dims(imgA,0)\n",
    "        imgB = np.expand_dims(imgB,0)\n",
    "        mask = np.expand_dims(mask,0)\n",
    "        label = np.expand_dims(label,0)\n",
    "        \n",
    "        # Pytorch\n",
    "        imgA = Tensor(imgA)\n",
    "        imgB = Tensor(imgB)\n",
    "        mask = Tensor(mask)\n",
    "        label = Tensor(label).long()\n",
    "        label = label.squeeze()\n",
    "                  \n",
    "        # Get name to save the data                      \n",
    "#         name = self.A[idx].split('orig/')[-1]\n",
    "        name = self.A[idx]\n",
    "    \n",
    "        return imgA, label"
   ]
  },
  {
   "cell_type": "code",
   "execution_count": 33,
   "metadata": {},
   "outputs": [],
   "source": [
    "slice_middle = 15\n",
    "def plot_next_batch_dataloader(dataloader_iterX):\n",
    "    a, labels = next(dataloader_iterX)\n",
    "    for i, lab in zip(a, labels):\n",
    "        lab = lab.detach().cpu().numpy()\n",
    "        fig, ax = plt.subplots(1,figsize=(6,3))\n",
    "        i = i[0].detach().cpu().numpy()\n",
    "#         mm = mm[0].detach().cpu().numpy()\n",
    "        ax.imshow(i[slice_middle], vmin=0, vmax=1)\n",
    "        ax.set_title(f'{lab}')\n",
    "#         ax[1].imshow(mm[slice_middle], vmin=0, vmax=1)\n",
    "        fig.tight_layout()"
   ]
  },
  {
   "cell_type": "code",
   "execution_count": 34,
   "metadata": {
    "scrolled": true
   },
   "outputs": [
    {
     "data": {
      "image/png": "[encoded data removed]",
      "text/plain": [
       "<Figure size 432x216 with 1 Axes>"
      ]
     },
     "metadata": {
      "needs_background": "light"
     },
     "output_type": "display_data"
    },
    {
     "data": {
      "image/png": "[encoded data removed]",
      "text/plain": [
       "<Figure size 432x216 with 1 Axes>"
      ]
     },
     "metadata": {
      "needs_background": "light"
     },
     "output_type": "display_data"
    },
    {
     "data": {
      "image/png": "[encoded data removed]",
      "text/plain": [
       "<Figure size 432x216 with 1 Axes>"
      ]
     },
     "metadata": {
      "needs_background": "light"
     },
     "output_type": "display_data"
    },
    {
     "data": {
      "image/png": "[encoded data removed]",
      "text/plain": [
       "<Figure size 432x216 with 1 Axes>"
      ]
     },
     "metadata": {
      "needs_background": "light"
     },
     "output_type": "display_data"
    }
   ],
   "source": [
    "small_X_train = X_files_train[:8]\n",
    "small_y_train = y_files_train[:8]\n",
    "\n",
    "small_dataset_train = LIDCGAN_3D(small_X_train, small_y_train, transform=TRANSFORMS)\n",
    "small_dataloader_train = DataLoader(small_dataset_train, batch_size=4)\n",
    "\n",
    "small_dataloader_iter = iter(small_dataloader_train)\n",
    "plot_next_batch_dataloader(small_dataloader_iter)"
   ]
  },
  {
   "cell_type": "code",
   "execution_count": 35,
   "metadata": {},
   "outputs": [],
   "source": [
    "# small_dataset_train = LIDCGAN_3D(small_X_train, small_y_train, transform=False)\n",
    "# dataloader_iter = iter(small_dataset_train)\n",
    "# a, labels = next(dataloader_iter)\n",
    "# a = a.detach().cpu().numpy()[0]"
   ]
  },
  {
   "cell_type": "code",
   "execution_count": 36,
   "metadata": {},
   "outputs": [],
   "source": [
    "# b, aa= random_rotation_scaling(a)\n",
    "# np.shape(b)\n",
    "# fig, ax = plt.subplots(1,2)\n",
    "# ax[0].imshow(a[15])\n",
    "# ax[1].imshow(b[15])"
   ]
  },
  {
   "cell_type": "code",
   "execution_count": 37,
   "metadata": {},
   "outputs": [],
   "source": [
    "sampler = class_imbalance_sampler(y_files_train)"
   ]
  },
  {
   "cell_type": "code",
   "execution_count": 38,
   "metadata": {},
   "outputs": [],
   "source": [
    "dataset_train = LIDCGAN_3D(X_files_train, y_files_train, transform=TRANSFORMS)\n",
    "dataloader_train = DataLoader(dataset_train, batch_size=BATCHSIZE, sampler = sampler)\n",
    "dataset_val = LIDCGAN_3D(X_files_val, y_files_val, transform=False)\n",
    "dataloader_val = DataLoader(dataset_val, batch_size=BATCHSIZE, shuffle=False)"
   ]
  },
  {
   "cell_type": "code",
   "execution_count": 39,
   "metadata": {
    "scrolled": true
   },
   "outputs": [],
   "source": [
    "# dataloader_iter_2D = iter(dataloader_train_2D)\n",
    "# plot_next_batch_dataloader_2D(dataloader_iter_2D)"
   ]
  },
  {
   "cell_type": "code",
   "execution_count": 40,
   "metadata": {
    "scrolled": true
   },
   "outputs": [
    {
     "name": "stdout",
     "output_type": "stream",
     "text": [
      "torch.Size([32, 1, 32, 32, 32])\n"
     ]
    }
   ],
   "source": [
    "dataloader_iter = iter(dataloader_train)\n",
    "for i in range(1):\n",
    "    a, labels = next(dataloader_iter)\n",
    "    if i==0:\n",
    "        images_for_init = a\n",
    "    else:\n",
    "        images_for_init = torch.cat((images_for_init,a))\n",
    "print(images_for_init.shape)\n",
    "IMAGE_SIZE = images_for_init.shape[-1]"
   ]
  },
  {
   "cell_type": "code",
   "execution_count": 41,
   "metadata": {
    "scrolled": true
   },
   "outputs": [
    {
     "name": "stdout",
     "output_type": "stream",
     "text": [
      "----------------------------------------------------------------\n",
      "        Layer (type)               Output Shape         Param #\n",
      "================================================================\n",
      "            Conv3d-1        [-1, 8, 32, 32, 32]             216\n",
      "       BatchNorm3d-2        [-1, 8, 32, 32, 32]              16\n",
      "         LeakyReLU-3        [-1, 8, 32, 32, 32]               0\n",
      "         Dropout3d-4        [-1, 8, 32, 32, 32]               0\n",
      "            Conv3d-5       [-1, 16, 16, 16, 16]           3,456\n",
      "       BatchNorm3d-6       [-1, 16, 16, 16, 16]              32\n",
      "         LeakyReLU-7       [-1, 16, 16, 16, 16]               0\n",
      "         Dropout3d-8       [-1, 16, 16, 16, 16]               0\n",
      "            Conv3d-9        [-1, 8, 16, 16, 16]             128\n",
      "      BatchNorm3d-10        [-1, 8, 16, 16, 16]              16\n",
      "        LeakyReLU-11        [-1, 8, 16, 16, 16]               0\n",
      "        Dropout3d-12        [-1, 8, 16, 16, 16]               0\n",
      "           Conv3d-13       [-1, 16, 16, 16, 16]           3,456\n",
      "      BatchNorm3d-14       [-1, 16, 16, 16, 16]              32\n",
      "        LeakyReLU-15       [-1, 16, 16, 16, 16]               0\n",
      "        Dropout3d-16       [-1, 16, 16, 16, 16]               0\n",
      "       ResLayer3D-17       [-1, 16, 16, 16, 16]               0\n",
      "           Conv3d-18        [-1, 8, 16, 16, 16]             128\n",
      "      BatchNorm3d-19        [-1, 8, 16, 16, 16]              16\n",
      "        LeakyReLU-20        [-1, 8, 16, 16, 16]               0\n",
      "        Dropout3d-21        [-1, 8, 16, 16, 16]               0\n",
      "           Conv3d-22       [-1, 16, 16, 16, 16]           3,456\n",
      "      BatchNorm3d-23       [-1, 16, 16, 16, 16]              32\n",
      "        LeakyReLU-24       [-1, 16, 16, 16, 16]               0\n",
      "        Dropout3d-25       [-1, 16, 16, 16, 16]               0\n",
      "       ResLayer3D-26       [-1, 16, 16, 16, 16]               0\n",
      "           Conv3d-27       [-1, 32, 16, 16, 16]          13,824\n",
      "      BatchNorm3d-28       [-1, 32, 16, 16, 16]              64\n",
      "        LeakyReLU-29       [-1, 32, 16, 16, 16]               0\n",
      "        Dropout3d-30       [-1, 32, 16, 16, 16]               0\n",
      "           Conv3d-31       [-1, 16, 16, 16, 16]             512\n",
      "      BatchNorm3d-32       [-1, 16, 16, 16, 16]              32\n",
      "        LeakyReLU-33       [-1, 16, 16, 16, 16]               0\n",
      "        Dropout3d-34       [-1, 16, 16, 16, 16]               0\n",
      "           Conv3d-35       [-1, 32, 16, 16, 16]          13,824\n",
      "      BatchNorm3d-36       [-1, 32, 16, 16, 16]              64\n",
      "        LeakyReLU-37       [-1, 32, 16, 16, 16]               0\n",
      "        Dropout3d-38       [-1, 32, 16, 16, 16]               0\n",
      "       ResLayer3D-39       [-1, 32, 16, 16, 16]               0\n",
      "           Conv3d-40       [-1, 16, 16, 16, 16]             512\n",
      "      BatchNorm3d-41       [-1, 16, 16, 16, 16]              32\n",
      "        LeakyReLU-42       [-1, 16, 16, 16, 16]               0\n",
      "        Dropout3d-43       [-1, 16, 16, 16, 16]               0\n",
      "           Conv3d-44       [-1, 32, 16, 16, 16]          13,824\n",
      "      BatchNorm3d-45       [-1, 32, 16, 16, 16]              64\n",
      "        LeakyReLU-46       [-1, 32, 16, 16, 16]               0\n",
      "        Dropout3d-47       [-1, 32, 16, 16, 16]               0\n",
      "       ResLayer3D-48       [-1, 32, 16, 16, 16]               0\n",
      "           Conv3d-49          [-1, 64, 8, 8, 8]          55,296\n",
      "      BatchNorm3d-50          [-1, 64, 8, 8, 8]             128\n",
      "        LeakyReLU-51          [-1, 64, 8, 8, 8]               0\n",
      "        Dropout3d-52          [-1, 64, 8, 8, 8]               0\n",
      "           Conv3d-53          [-1, 32, 8, 8, 8]           2,048\n",
      "      BatchNorm3d-54          [-1, 32, 8, 8, 8]              64\n",
      "        LeakyReLU-55          [-1, 32, 8, 8, 8]               0\n",
      "        Dropout3d-56          [-1, 32, 8, 8, 8]               0\n",
      "           Conv3d-57          [-1, 64, 8, 8, 8]          55,296\n",
      "      BatchNorm3d-58          [-1, 64, 8, 8, 8]             128\n",
      "        LeakyReLU-59          [-1, 64, 8, 8, 8]               0\n",
      "        Dropout3d-60          [-1, 64, 8, 8, 8]               0\n",
      "       ResLayer3D-61          [-1, 64, 8, 8, 8]               0\n",
      "           Conv3d-62          [-1, 32, 8, 8, 8]           2,048\n",
      "      BatchNorm3d-63          [-1, 32, 8, 8, 8]              64\n",
      "        LeakyReLU-64          [-1, 32, 8, 8, 8]               0\n",
      "        Dropout3d-65          [-1, 32, 8, 8, 8]               0\n",
      "           Conv3d-66          [-1, 64, 8, 8, 8]          55,296\n",
      "      BatchNorm3d-67          [-1, 64, 8, 8, 8]             128\n",
      "        LeakyReLU-68          [-1, 64, 8, 8, 8]               0\n",
      "        Dropout3d-69          [-1, 64, 8, 8, 8]               0\n",
      "       ResLayer3D-70          [-1, 64, 8, 8, 8]               0\n",
      "AdaptiveAvgPool3d-71          [-1, 64, 1, 1, 1]               0\n",
      "          Flatten-72                   [-1, 64]               0\n",
      "          Dropout-73                   [-1, 64]               0\n",
      "           Linear-74                    [-1, 2]             130\n",
      "================================================================\n",
      "Total params: 224,362\n",
      "Trainable params: 224,362\n",
      "Non-trainable params: 0\n",
      "----------------------------------------------------------------\n",
      "Input size (MB): 0.12\n",
      "Forward/backward pass size (MB): 39.50\n",
      "Params size (MB): 0.86\n",
      "Estimated Total Size (MB): 40.48\n",
      "----------------------------------------------------------------\n"
     ]
    }
   ],
   "source": [
    "# summary(model,(1,64,64))\n",
    "# summary(model,(1,48,48))\n",
    "summary(model,(1,32,32,32))"
   ]
  },
  {
   "cell_type": "code",
   "execution_count": 42,
   "metadata": {},
   "outputs": [
    {
     "name": "stdout",
     "output_type": "stream",
     "text": [
      "using cuda\n"
     ]
    }
   ],
   "source": [
    "if torch.cuda.is_available():\n",
    "    model.cuda()\n",
    "    print(f'using {device}')"
   ]
  },
  {
   "cell_type": "code",
   "execution_count": 43,
   "metadata": {},
   "outputs": [],
   "source": [
    "# WEIGHTS INIT\n",
    "str_init='init_none'\n",
    "if apply_weights_init:\n",
    "    model.apply(weights_init);\n",
    "    str_init = 'init_weights' "
   ]
  },
  {
   "cell_type": "code",
   "execution_count": 44,
   "metadata": {
    "scrolled": true
   },
   "outputs": [
    {
     "name": "stdout",
     "output_type": "stream",
     "text": [
      "Darknet3D_v5_NF1=8_222_QCnone_CH=64_LSUV=T_SZ=32\n",
      "loading model already preinit with LSUV\n"
     ]
    }
   ],
   "source": [
    "# NAME FOR LSUV\n",
    "str_layers = str(layers)\n",
    "model_LSUV = f'{backbone_name}{str_layers}_{QC_name}_CH={CHANNELS}_LSUV={str(apply_LSUV)[:1]}'\n",
    "model_LSUV = model_LSUV.replace(', ','').replace('[','_').replace(']', '')\n",
    "model_LSUV = f'{model_LSUV}_SZ={IMAGE_SIZE}'\n",
    "print(model_LSUV)\n",
    "# LSUV\n",
    "path_LSUVinit = 'classifier/LSUVinit_models/'\n",
    "if apply_LSUV:\n",
    "    # check if there is a preinit model already saved\n",
    "    preinit_models = os.listdir(path_LSUVinit)\n",
    "    preinit_models = [i.split('.pt')[0] for i in preinit_models]\n",
    "    if model_LSUV in preinit_models:\n",
    "        print('loading model already preinit with LSUV')\n",
    "        model.load_state_dict(torch.load(f'{path_LSUVinit}{model_LSUV}.pt'))\n",
    "    else:\n",
    "        model = LSUVinit3D(model, a)\n",
    "        if torch.cuda.is_available():\n",
    "            model.cuda()\n",
    "        str_init = 'init_LSUV'\n",
    "        torch.save(model.state_dict(), f'{path_LSUVinit}{model_LSUV}.pt')"
   ]
  },
  {
   "cell_type": "code",
   "execution_count": 45,
   "metadata": {},
   "outputs": [
    {
     "data": {
      "text/plain": [
       "0.003"
      ]
     },
     "execution_count": 45,
     "metadata": {},
     "output_type": "execute_result"
    }
   ],
   "source": [
    "# LR finder\n",
    "if LR_finder:\n",
    "    lr=1e-7\n",
    "    opt = optim.Adam(model.parameters(), lr=lr)\n",
    "    criterion = F.cross_entropy\n",
    "    lr_finder = LRFinder(model, opt, criterion, device=\"cuda\")\n",
    "    lr_finder.range_test(dataloader_train, end_lr=100, num_iter=100)\n",
    "    lr_finder.plot()\n",
    "    LR, oLoss, _, _ = find_lr_get_lr(lr_finder.history['lr'], lr_finder.history['loss'])\n",
    "    plt.semilogx(lr_finder.history['lr'][:-5],lr_finder.history['loss'][:-5])\n",
    "    plt.scatter(lr_finder.history['lr'][oLoss], lr_finder.history['loss'][oLoss], c='#000000')\n",
    "    opt = optim.Adam(model.parameters(), lr=LR)\n",
    "else:\n",
    "    LR = 0.003\n",
    "    opt = optim.Adam(model.parameters(), lr=LR)\n",
    "    criterion = F.cross_entropy\n",
    "LR"
   ]
  },
  {
   "cell_type": "code",
   "execution_count": 46,
   "metadata": {},
   "outputs": [
    {
     "name": "stdout",
     "output_type": "stream",
     "text": [
      "tensor([0.4272, 0.5728])\n",
      "cuda\n"
     ]
    }
   ],
   "source": [
    "# Weights for imbalanced classes\n",
    "if weight_balance:\n",
    "    weights = []\n",
    "    for i in np.sort(np.unique(y_files_train)):\n",
    "        weights.append(1/(np.sum(y_files_train == i ) / len(df)))\n",
    "    weights = weights/(np.sum(weights))\n",
    "    weights = Tensor(weights)\n",
    "    print(weights)\n",
    "    if torch.cuda.is_available():\n",
    "        print('cuda')\n",
    "        weights = weights.cuda();"
   ]
  },
  {
   "cell_type": "code",
   "execution_count": 47,
   "metadata": {},
   "outputs": [],
   "source": [
    "# NAME\n",
    "str_layers = str(layers)\n",
    "model_name = f'{backbone_name}{str_layers}_{QC_name}_CH={CHANNELS}_TR={str(TRANSFORMS)[:1]}_LSUV={str(apply_LSUV)[:1]}'\n",
    "model_name = model_name.replace(', ','').replace('[','_').replace(']', '')\n",
    "model_name = f'{model_name}_SZ={IMAGE_SIZE}_LR={LR:.0E}_DP={dropout}_NO_TRANS'"
   ]
  },
  {
   "cell_type": "code",
   "execution_count": 48,
   "metadata": {},
   "outputs": [
    {
     "data": {
      "text/plain": [
       "'Darknet3D_v5_NF1=8_222_QCnone_CH=64_TR=T_LSUV=T_SZ=32_LR=3E-03_DP=0.5_NO_TRANS'"
      ]
     },
     "execution_count": 48,
     "metadata": {},
     "output_type": "execute_result"
    }
   ],
   "source": [
    "model_name"
   ]
  },
  {
   "cell_type": "code",
   "execution_count": 52,
   "metadata": {
    "scrolled": true
   },
   "outputs": [
    {
     "data": {
      "application/vnd.jupyter.widget-view+json": {
       "model_id": "571d3f7e7a5842e29f32ff95a0db5455",
       "version_major": 2,
       "version_minor": 0
      },
      "text/plain": [
       "HBox(children=(IntProgress(value=0, description='training fold = 1', max=50, style=ProgressStyle(description_w…"
      ]
     },
     "metadata": {},
     "output_type": "display_data"
    },
    {
     "name": "stdout",
     "output_type": "stream",
     "text": [
      "\n"
     ]
    }
   ],
   "source": [
    "epochs = 100\n",
    "best_loss_val = 10000\n",
    "\n",
    "# start training or continue training\n",
    "if 'val_loss' not in locals():\n",
    "    train_loss = []\n",
    "    val_loss = []\n",
    "    train_accuracy = []\n",
    "    val_accuracy = []\n",
    "\n",
    "for epoch in tqdm_notebook(range(epochs), total = len(range(epochs)), desc=f'training fold = {fold}'):\n",
    "    y_train_all, y_val_all = [], []\n",
    "    pred_train_proba_all, pred_val_proba_all = [], []\n",
    "    correct_train, correct_val = 0, 0\n",
    "    total_train, total_val = 0, 0\n",
    "    loss_train_epoch, loss_val_epoch = 0, 0\n",
    "    \n",
    "    model.train()\n",
    "    for idx, (Xa_train, y_train) in enumerate(dataloader_train):\n",
    "        \n",
    "        start = time.time()\n",
    "        if weight_balance:\n",
    "            pred_train_proba, loss, batch_total, batch_correct, _ = loss_batch_weight(model, criterion, Xa_train, y_train, device, weights)\n",
    "        else:\n",
    "            pred_train_proba, loss, batch_total, batch_correct, _ = loss_batch(model, criterion, Xa_train, y_train, device)\n",
    "        correct_train += batch_correct\n",
    "        total_train += batch_total\n",
    "        loss_train_epoch += loss.detach().cpu().numpy()\n",
    "        y_train_all.extend(y_train.detach().cpu().numpy())\n",
    "        pred_train_proba_all.extend(pred_train_proba)\n",
    "        # Backprop\n",
    "        opt.zero_grad()\n",
    "        loss.backward()\n",
    "        opt.step()\n",
    "    accuracy_train = 100 * correct_train / total_train\n",
    "\n",
    "    model.eval() \n",
    "    with torch.no_grad():\n",
    "        for idx_val, (Xa_val, y_val) in enumerate(dataloader_val):\n",
    "            pred_val_proba, loss_val_batch, batch_total_val, batch_correct_val, _ = loss_batch(model, criterion, Xa_val, y_val, device)\n",
    "\n",
    "            loss_val_epoch += loss_val_batch.detach().cpu().numpy()\n",
    "            total_val += batch_total_val   \n",
    "            correct_val += batch_correct_val\n",
    "            pred_val_proba_all.extend(pred_val_proba)\n",
    "            y_val_all.extend(y_val.detach().cpu().numpy())\n",
    "        accuracy_val = 100 * correct_val/ total_val\n",
    "\n",
    "        # Save best model according to val set\n",
    "        model_saved_name = f'classifier/CNN_models/{model_name}'\n",
    "        if best_loss_val > loss_val_epoch and epoch >= 2:\n",
    "            best_loss_val = loss_val_epoch\n",
    "            best_val_acc = accuracy_val\n",
    "            pred_val_proba_best = pred_val_proba_all\n",
    "            y_val_best = y_val_all    \n",
    "            y_train_best = y_train_all    \n",
    "            pred_train_proba_best = pred_train_proba_all\n",
    "            torch.save({'epoch': epoch + 1, 'state_dict': model.state_dict(),'optim_dict' : opt.state_dict()}, model_saved_name)\n",
    "            \n",
    "    train_loss.append(loss_train_epoch)\n",
    "    val_loss.append(loss_val_epoch)\n",
    "    train_accuracy.append(accuracy_train)\n",
    "    val_accuracy.append(accuracy_val)"
   ]
  },
  {
   "cell_type": "code",
   "execution_count": 50,
   "metadata": {},
   "outputs": [
    {
     "data": {
      "text/plain": [
       "'Darknet3D_v5_NF1=8_222_QCnone_CH=64_TR=T_LSUV=T_SZ=32_LR=3E-03_DP=0.5_NO_TRANS'"
      ]
     },
     "execution_count": 50,
     "metadata": {},
     "output_type": "execute_result"
    }
   ],
   "source": [
    "model_name"
   ]
  },
  {
   "cell_type": "code",
   "execution_count": 51,
   "metadata": {},
   "outputs": [
    {
     "data": {
      "image/png": "[encoded data removed]",
      "text/plain": [
       "<Figure size 864x288 with 3 Axes>"
      ]
     },
     "metadata": {
      "needs_background": "light"
     },
     "output_type": "display_data"
    }
   ],
   "source": [
    "pred_val_class_best = [float(i>.5) for i in pred_val_proba_best]\n",
    "accuracy_final = accuracy_score(y_val_best, pred_val_class_best)\n",
    "cm = confusion_matrix(y_val_best, pred_val_class_best)\n",
    "\n",
    "fig, ax = plt.subplots(1,3,figsize = (12,4), gridspec_kw = {'width_ratios':[4, 4, 2]})\n",
    "ax[0].plot(train_accuracy)\n",
    "ax[0].plot(val_accuracy)\n",
    "# ax[0].set_title(f'LSUV = {apply_LSUV}         ')\n",
    "ax[0].set_ylim([40,100])\n",
    "ax[1].plot(train_loss)\n",
    "ax[1].plot(val_loss)\n",
    "ax[1].set_ylim([0,40])\n",
    "ax[1].set_title(f'model = {model_name}')\n",
    "\n",
    "classes = [int(i) for i in np.unique(y_val_best)]\n",
    "thresh = cm.max() / 1.3\n",
    "ax[2].imshow(cm, interpolation='nearest', cmap=plt.cm.Greys);\n",
    "ax[2].set_title(f'acc={accuracy_final:.2f}\\n(train={len(X_files_train)} , val={len(X_files_val)})', fontsize = 14)\n",
    "plt.sca(ax[2])\n",
    "plt.xticks(fontsize = 14);\n",
    "plt.yticks(fontsize = 14);\n",
    "tick_marks = np.arange(len(classes));\n",
    "plt.xticks(tick_marks, classes, rotation=0);\n",
    "# plt.yticks(tick_marks2, classes2, rotation=0);\n",
    "for i, j in itertools.product(range(cm.shape[0]), range(cm.shape[1])):\n",
    "    plt.text(j, i, format(cm[i, j], 'd'), horizontalalignment=\"center\", \n",
    "             verticalalignment = 'top',\n",
    "         color=\"white\" if cm[i, j] > thresh else \"black\", fontsize = 14)\n",
    "\n",
    "fig.savefig(f'classifier/results/{model_name}.jpg')"
   ]
  },
  {
   "cell_type": "code",
   "execution_count": 1,
   "metadata": {},
   "outputs": [],
   "source": [
    "%load_ext autoreload\n",
    "%autoreload 2"
   ]
  },
  {
   "cell_type": "code",
   "execution_count": 2,
   "metadata": {},
   "outputs": [],
   "source": [
    "import flashtorch\n",
    "from flashtorch.saliency import Backprop"
   ]
  },
  {
   "cell_type": "code",
   "execution_count": 3,
   "metadata": {},
   "outputs": [],
   "source": [
    "!which flashtorch"
   ]
  },
  {
   "cell_type": "code",
   "execution_count": 4,
   "metadata": {},
   "outputs": [
    {
     "ename": "NameError",
     "evalue": "name 'model' is not defined",
     "output_type": "error",
     "traceback": [
      "\u001b[0;31m---------------------------------------------------------------------------\u001b[0m",
      "\u001b[0;31mNameError\u001b[0m                                 Traceback (most recent call last)",
      "\u001b[0;32m<ipython-input-4-b02e059153df>\u001b[0m in \u001b[0;36m<module>\u001b[0;34m\u001b[0m\n\u001b[0;32m----> 1\u001b[0;31m \u001b[0mbackprop\u001b[0m \u001b[0;34m=\u001b[0m \u001b[0mBackprop\u001b[0m\u001b[0;34m(\u001b[0m\u001b[0mmodel\u001b[0m\u001b[0;34m)\u001b[0m\u001b[0;34m\u001b[0m\u001b[0;34m\u001b[0m\u001b[0m\n\u001b[0m",
      "\u001b[0;31mNameError\u001b[0m: name 'model' is not defined"
     ]
    }
   ],
   "source": [
    "backprop = Backprop(model)"
   ]
  },
  {
   "cell_type": "code",
   "execution_count": null,
   "metadata": {},
   "outputs": [],
   "source": [
    "target_class = 1\n",
    "backprop.visualize(a, 1, guided=True)"
   ]
  },
  {
   "cell_type": "code",
   "execution_count": null,
   "metadata": {},
   "outputs": [],
   "source": [
    "small_dataset_train = LIDCGAN_3D(small_X_train, small_y_train, transform=False)\n",
    "dataloader_iter = iter(small_dataset_train)\n",
    "a, labels = next(dataloader_iter)\n",
    "# a = a.detach().cpu().numpy()[0]"
   ]
  },
  {
   "cell_type": "code",
   "execution_count": null,
   "metadata": {},
   "outputs": [],
   "source": [
    "# b, aa= random_rotation_scaling(a)\n",
    "# np.shape(b)\n",
    "# fig, ax = plt.subplots(1,2)\n",
    "# ax[0].imshow(a[15])\n",
    "# ax[1].imshow(b[15])"
   ]
  },
  {
   "cell_type": "code",
   "execution_count": null,
   "metadata": {
    "scrolled": true
   },
   "outputs": [],
   "source": [
    "a.squeeze_()"
   ]
  },
  {
   "cell_type": "code",
   "execution_count": null,
   "metadata": {},
   "outputs": [],
   "source": [
    "a.shape"
   ]
  },
  {
   "cell_type": "code",
   "execution_count": null,
   "metadata": {},
   "outputs": [],
   "source": [
    "aa = a.detach().cpu().numpy()"
   ]
  },
  {
   "cell_type": "code",
   "execution_count": null,
   "metadata": {},
   "outputs": [],
   "source": [
    "model(a)"
   ]
  },
  {
   "cell_type": "code",
   "execution_count": null,
   "metadata": {},
   "outputs": [],
   "source": [
    "aaa = Variable(a.cuda(device))"
   ]
  },
  {
   "cell_type": "code",
   "execution_count": null,
   "metadata": {},
   "outputs": [],
   "source": [
    "model(aaa)"
   ]
  },
  {
   "cell_type": "code",
   "execution_count": null,
   "metadata": {},
   "outputs": [],
   "source": [
    "aaa.shape"
   ]
  },
  {
   "cell_type": "code",
   "execution_count": null,
   "metadata": {},
   "outputs": [],
   "source": []
  }
 ],
 "metadata": {
  "kernelspec": {
   "display_name": "Python 3",
   "language": "python",
   "name": "python3"
  },
  "language_info": {
   "codemirror_mode": {
    "name": "ipython",
    "version": 3
   },
   "file_extension": ".py",
   "mimetype": "text/x-python",
   "name": "python",
   "nbconvert_exporter": "python",
   "pygments_lexer": "ipython3",
   "version": "3.6.9"
  },
  "varInspector": {
   "cols": {
    "lenName": 16,
    "lenType": 16,
    "lenVar": 40
   },
   "kernels_config": {
    "python": {
     "delete_cmd_postfix": "",
     "delete_cmd_prefix": "del ",
     "library": "var_list.py",
     "varRefreshCmd": "print(var_dic_list())"
    },
    "r": {
     "delete_cmd_postfix": ") ",
     "delete_cmd_prefix": "rm(",
     "library": "var_list.r",
     "varRefreshCmd": "cat(var_dic_list()) "
    }
   },
   "types_to_exclude": [
    "module",
    "function",
    "builtin_function_or_method",
    "instance",
    "_Feature"
   ],
   "window_display": false
  }
 },
 "nbformat": 4,
 "nbformat_minor": 2
}
